{
 "cells": [
  {
   "cell_type": "markdown",
   "metadata": {
    "colab_type": "text",
    "id": "Up3cmICsoWqB"
   },
   "source": [
    "# Homework 1"
   ]
  },
  {
   "cell_type": "markdown",
   "metadata": {
    "colab_type": "text",
    "id": "BxW6uAKVoWqE"
   },
   "source": [
    "This homework should be submitted as one notebook. When completed, please rename the notebook before sending as follows: *hw1_\\<lastname\\>_\\<firstname\\>.ipynb* (example: *hw1_Bond_James.ipynb*)."
   ]
  },
  {
   "cell_type": "markdown",
   "metadata": {
    "colab_type": "text",
    "id": "HtMcQSMFoWqF"
   },
   "source": [
    "# Part 1: Differentiation"
   ]
  },
  {
   "cell_type": "markdown",
   "metadata": {
    "colab_type": "text",
    "id": "_gV48w_soWqI"
   },
   "source": [
    "Since it easy to google every task please please please try to understand what's going on. The \"just answer\" thing will be not counted, make sure to present derivation of your solution. A good way to derive solutions for these tasks is to derive it for single elements and then generalize to the resulting matrix/vector."
   ]
  },
  {
   "cell_type": "markdown",
   "metadata": {
    "colab_type": "text",
    "id": "XvbNbT32oWqK"
   },
   "source": [
    "Useful links: \n",
    "[1](http://www.machinelearning.ru/wiki/images/2/2a/Matrix-Gauss.pdf)\n",
    "[2](http://www.atmos.washington.edu/~dennis/MatrixCalculus.pdf)\n",
    "[3](http://cal.cs.illinois.edu/~johannes/research/matrix%20calculus.pdf)"
   ]
  },
  {
   "cell_type": "markdown",
   "metadata": {
    "colab_type": "text",
    "id": "CXVM4i5foWqN"
   },
   "source": [
    "## ex. 1 *[0.5 points]*"
   ]
  },
  {
   "cell_type": "markdown",
   "metadata": {
    "colab_type": "text",
    "id": "j78Zl4YhoWqP"
   },
   "source": [
    "Scalar w.r.t. vector:\n",
    "$$  \n",
    "y = c^Tx,  \\quad x \\in \\mathbb{R}^N \n",
    "$$"
   ]
  },
  {
   "cell_type": "markdown",
   "metadata": {
    "colab_type": "text",
    "id": "gDQyQ9NzoWqT"
   },
   "source": [
    "$$\n",
    "\\frac{dy}{dx} = \n",
    "$$ "
   ]
  },
  {
   "cell_type": "markdown",
   "metadata": {
    "colab_type": "text",
    "id": "Ui2n6m9aoWqU"
   },
   "source": [
    "$$y=\\left(c_{1} \\, c_{2}\\ldots c_{N}\\right)\\left(\\begin{array}{l}x_{1} \\\\\\ldots \\\\ x_{N}\\end{array}\\right)=c_{1} x_{1}+\\ldots+c_{N} x_{N}=\\sum_{k=1}^{N} c_{x} x_{k}$$\n",
    "$$\\frac{d y}{d x}=\\left[\\frac{\\partial y}{\\partial x_{1}} \\frac{\\partial y}{\\partial x_{2}} \\ldots \\frac{\\partial y}{\\partial x_{N}}\\right]^{T}=\\left[c_{1} \\,c_{2} \\ldots c_{N}\\right]^{T}=c$$\n",
    "\n",
    "                     (Using definition of Scalar w.r.t. vector derivative from Useful links #1)"
   ]
  },
  {
   "cell_type": "markdown",
   "metadata": {
    "colab_type": "text",
    "id": "3exuXXvSoWqV"
   },
   "source": [
    "## ex. 2 *[0.5 points]*"
   ]
  },
  {
   "cell_type": "markdown",
   "metadata": {
    "colab_type": "text",
    "id": "AiFvJb1foWqV"
   },
   "source": [
    "Vector w.r.t. vector:\n",
    "$$ y = \\sum_{j=1}^{N} cx^T \\quad c \\in \\mathbb{R}^{M} ,x \\in \\mathbb{R}^{N}, cx^T \\in \\mathbb{R}^{M \\times N} $$ "
   ]
  },
  {
   "cell_type": "markdown",
   "metadata": {
    "colab_type": "text",
    "id": "uNvTz-48oWqZ"
   },
   "source": [
    "$$\n",
    "\\frac{dy}{dx} = \n",
    "$$"
   ]
  },
  {
   "cell_type": "markdown",
   "metadata": {
    "colab_type": "text",
    "id": "u1le809ooWqa"
   },
   "source": [
    "$$c{x}^{T}=\\left(\\begin{array}{c}c_{1} \\\\ c_{2} \\\\ \\ldots \\\\ c_{M}\\end{array}\\right)\\left(\\begin{array}{lll}x_{1} & x_{2} &\\ldots& x_{n}\\end{array}\\right)=\\left(\\begin{array}{ll}c_{1} x_{1} & c_{1} x_{2} &\\ldots& c_{1} x_{N} \\\\ \\ldots&\\ldots&\\ldots&\\ldots& \\\\ c_{M} x_{1} & c_{M} x_{2} &\\ldots&c_{M} x_{N}\\end{array}\\right)$$\n",
    "\n",
    "$$\\sum_{j=1}^{N} cx^T = \n",
    "\\left(\\begin{array}{c}\n",
    "c_{1} x_{1}+c_{1} x_{2}+\\cdots+c_{1} x_{N} \\\\\n",
    "\\ldots\\\\\n",
    "c_{M} x_{1}+c_{M} x_{2}+\\ldots+c_{M} x_{N}\n",
    "\\end{array}\\right)=\\left(\\begin{array}{c}\n",
    "y_{1} \\\\\n",
    "y_{2} \\\\\n",
    "\\vdots \\\\\n",
    "y_{m}\n",
    "\\end{array}\\right)$$\n",
    "\n",
    "$$\n",
    "\\frac{d y}{d x}=\\left(\\begin{array}{lll}\n",
    "\\frac{\\partial y_{1}}{\\partial x_{1}} &\\ldots& \\frac{\\partial y_{1}}{\\partial x_{N}} \\\\\n",
    "\\vdots & & \\\\\n",
    "\\frac{\\partial y_{M}}{\\partial x_{1}} & \\cdots & \\frac{\\partial y_{M}}{\\partial x_{N}}\n",
    "\\end{array}\\right) = \\left(\\begin{array}{lll}\n",
    "c_{1} &\\ldots& c_{1} \\\\\n",
    "\\ldots&\\ldots&\\ldots&\\\\\n",
    "c_{M} &\\ldots& c_{M}\n",
    "\\end{array}\\right) = \\left(\\begin{array}{l}\n",
    "c_{1} \\\\\n",
    "\\vdots\\\\\n",
    "c_{M}\\end{array}\\right)(1\\, \\ldots \\,1)=c \\overrightarrow{1}^T\n",
    "$$"
   ]
  },
  {
   "cell_type": "markdown",
   "metadata": {
    "colab_type": "text",
    "id": "zjo4-74yoWqc"
   },
   "source": [
    "## ex. 3 *[1 points]*"
   ]
  },
  {
   "cell_type": "markdown",
   "metadata": {
    "colab_type": "text",
    "id": "HtM_Y2TpoWqe"
   },
   "source": [
    "Vector w.r.t. vector:\n",
    "$$  \n",
    "y = x x^T x , x \\in \\mathbb{R}^{N}\n",
    "$$\n",
    "\n",
    "$$\n",
    "\\frac{dy}{dx} =\n",
    "$$"
   ]
  },
  {
   "cell_type": "markdown",
   "metadata": {
    "colab_type": "text",
    "id": "G7kVMT3ZoWqg"
   },
   "source": [
    "$$\n",
    "y=\\left(\\begin{array}{c}\n",
    "x_{1} \\\\\n",
    "\\vdots \\\\\n",
    "x_{N}\n",
    "\\end{array}\\right)\\left(x_{1} \\ldots x_{N}\\right)\\left(\\begin{array}{l}\n",
    "x_{1} \\\\\n",
    "\\vdots \\\\\n",
    "x_{N}\n",
    "\\end{array}\\right)=\n",
    "\\left(\\begin{array}{lll}\n",
    "x_{1}^{2} & x_{1} x_{2} & \\ldots & x_{1} x_{N} \\\\\n",
    "x_{2} x_{1} &\\ldots & \\ldots& x_{2} x_{N} \\\\\n",
    "\\ldots&\\ldots&\\ldots&\\ldots\\\\\n",
    "x_{N} x_{1} & & & x_{N}^{2}\n",
    "\\end{array}\\right)\\left(\\begin{array}{l}\n",
    "x_{1} \\\\\n",
    "\\vdots\\\\\n",
    "x_{N}\n",
    "\\end{array}\\right)=\n",
    "\\left(\\begin{array}{l}\n",
    "x_{1}^{3}+x_{1} x_{2}^{2}+\\ldots+x_{1} x_{N}^{2} \\\\\n",
    "\\vdots \\\\\n",
    "x_{N} x_{1}^{2}+x_{N} x_{2}^{2}+\\ldots x_{N}^{3}\n",
    "\\end{array}\\right)\n",
    "$$\n",
    "\n",
    "\n",
    "$$\n",
    "\\frac{d y}{d x}=\\left(\\begin{array}{ll}\n",
    "\\frac{\\partial y_{1}}{\\partial x_{1}} &\\ldots& \\frac{\\partial y_{1}}{\\partial x_{N}} \\\\\n",
    "\\vdots\\\\\n",
    "\\frac{\\partial y_{N}}{\\partial x_{1}} &\\ldots& \\frac{\\partial y_{N}}{\\partial x_{N}}\n",
    "\\end{array}\\right) =\n",
    "\\left(\\begin{array}{c}\n",
    "2 x_{1}^{2}+\\sum_{k=1}^{N} x_{k}^{2} &\\ldots&2 x_{1} x_{k}\\\\\n",
    "\\vdots \\\\\n",
    "2 x_{1} x_{N} &\\ldots& 2 x_{N}^{2}+\\sum_{k=1}^{N} x_{k}\n",
    "\\end{array}\\right) = 2 x x^T + x^Tx  I\n",
    "$$\n"
   ]
  },
  {
   "cell_type": "markdown",
   "metadata": {
    "colab_type": "text",
    "id": "zME4ikT-oWqh"
   },
   "source": [
    "## ex. 4 *[1 points]*"
   ]
  },
  {
   "cell_type": "markdown",
   "metadata": {
    "colab_type": "text",
    "id": "Kt_SUYkWoWqi"
   },
   "source": [
    "Derivatives for the parameters of the Dense layer:\n",
    "\n",
    "***Given :***  $$Y = XW, Y \\in \\mathbb{R}^{N \\times OUT}, X \\in \\mathbb{R}^{N \\times IN}, W \\in \\mathbb{R}^{IN \\times OUT} $$ \n",
    "\n",
    "The derivative of the hypothetic loss function w.r.t. to $Y$ is known: $\\Delta Y  \\in \\mathbb{R}^{N \\times OUT}$\n",
    "\n",
    "***Task :*** Please, derive the gradients of the loss w.r.t the weight matrix $W$: $\\Delta W  \\in \\mathbb{R}^{IN \\times OUT}$. Use the chain rule. First, please, derive each element of the $\\Delta W$, then generalize to the matrix form.\n",
    " \n",
    "Useful link: http://cs231n.stanford.edu/vecDerivs.pdf\n"
   ]
  },
  {
   "cell_type": "markdown",
   "metadata": {
    "colab_type": "text",
    "id": "pa6MqDxeoWqi"
   },
   "source": [
    "**From Lecture #1:**\n",
    "$$\n",
    "\\frac{d \\operatorname{Loss}}{dW}=\\left(\\frac{dY}{dW}\\right)^{T} \\frac{d\\operatorname{Loss}}{dY} = \\\\\n",
    "= \\left(\\frac{dY}{dW}\\right)^{T}\\Delta Y\n",
    "$$\n",
    "\n",
    "$$\n",
    "\\left(\\begin{array}{cc}\n",
    "y_{11} & y_{1 ,{OUT}} \\\\\n",
    "\\vdots\\\\\n",
    "y_{N1} & \\ldots y_{N,OUT}\n",
    "\\end{array}\\right)=\n",
    "\\left(\\begin{array}{cc}\n",
    "x_{11} & x_{1 ,{IN}} \\\\\n",
    "\\vdots\\\\\n",
    "x_{N1} & \\ldots x_{N,IN}\n",
    "\\end{array}\\right)\\left(\\begin{array}{cc}\n",
    "w_{11} & w_{1,OUT} \\\\\n",
    "\\vdots\\\\\n",
    "w_{IN,1} & w_{IN,OUT}\n",
    "\\end{array}\\right)\n",
    "$$\n",
    "or\n",
    "$$\n",
    "Y_{i, j}=\\sum_{k=1}^{IN} X_{i, k} W_{k, j}\n",
    "$$\n",
    "\n",
    "From here we can see that\n",
    "$$\n",
    "\\frac{\\partial Y_{a, b}}{\\partial W_{c,d}}=0\n",
    "$$\n",
    "\n",
    "and only if we let indexes $b,d$ be equal, we have:\n",
    "\n",
    "$$\n",
    "\\frac{\\partial Y_{i, j}}{\\partial W_{k, j}}=X_{i, k}\n",
    "$$\n",
    "\n",
    "So, resulting non-zeros:\n",
    "$$\n",
    "\\frac{\\partial Y_{:, j}}{\\partial W_{:, j}}=X\n",
    "$$\n",
    "Finally:\n",
    "$$\n",
    "\\frac{d\\operatorname{Loss}}{dW}=X^{T} \\cdot \\Delta Y\n",
    "$$"
   ]
  },
  {
   "cell_type": "markdown",
   "metadata": {
    "colab_type": "text",
    "id": "S0MPnEABoWqi"
   },
   "source": [
    "# Part 2: Modules\n",
    "\n",
    "In this part you need to implement the modules of your neural network in NumPy."
   ]
  },
  {
   "cell_type": "code",
   "execution_count": 124,
   "metadata": {
    "colab": {},
    "colab_type": "code",
    "id": "SVpaaCskoWqj"
   },
   "outputs": [],
   "source": [
    "import numpy as np"
   ]
  },
  {
   "cell_type": "markdown",
   "metadata": {
    "colab_type": "text",
    "id": "4NqugzMvoWqp"
   },
   "source": [
    "**Module** is an abstract class which defines fundamental methods necessary for a training a neural network. You do not need to change anything here, just read the comments."
   ]
  },
  {
   "cell_type": "code",
   "execution_count": 125,
   "metadata": {
    "colab": {},
    "colab_type": "code",
    "id": "5UrYWov4oWqp"
   },
   "outputs": [],
   "source": [
    "class Module(object):\n",
    "    \"\"\"\n",
    "    Basically, you can think of a module as of a something (black box) \n",
    "    which can process `input` data and produce `ouput` data.\n",
    "    This is like applying a function which is called `forward`: \n",
    "        \n",
    "        output = module.forward(input)\n",
    "    \n",
    "    The module should be able to perform a backward pass: to differentiate the `forward` function. \n",
    "    More, it should be able to differentiate it if is a part of chain (chain rule).\n",
    "    The latter implies there is a gradient from previous step of a chain rule. \n",
    "    \n",
    "        gradInput = module.backward(input, gradOutput)\n",
    "    \"\"\"\n",
    "    def __init__ (self):\n",
    "        self.output = None\n",
    "        self.gradInput = None\n",
    "        self.training = True\n",
    "    \n",
    "    def forward(self, input):\n",
    "        \"\"\"\n",
    "        Takes an input object, and computes the corresponding output of the module.\n",
    "        \"\"\"\n",
    "        return self.updateOutput(input)\n",
    "\n",
    "    def backward(self,input, gradOutput):\n",
    "        \"\"\"\n",
    "        Performs a backpropagation step through the module, with respect to the given input.\n",
    "        \n",
    "        This includes \n",
    "         - computing a gradient w.r.t. `input` (is needed for further backprop),\n",
    "         - computing a gradient w.r.t. parameters (to update parameters while optimizing).\n",
    "        \"\"\"\n",
    "        self.updateGradInput(input, gradOutput)\n",
    "        self.accGradParameters(input, gradOutput)\n",
    "        return self.gradInput\n",
    "    \n",
    "\n",
    "    def updateOutput(self, input):\n",
    "        \"\"\"\n",
    "        Computes the output using the current parameter set of the class and input.\n",
    "        This function returns the result which is stored in the `output` field.\n",
    "        \n",
    "        Make sure to both store the data in `output` field and return it. \n",
    "        \"\"\"\n",
    "        \n",
    "        # The easiest case:\n",
    "            \n",
    "        # self.output = input \n",
    "        # return self.output\n",
    "        \n",
    "        pass\n",
    "\n",
    "    def updateGradInput(self, input, gradOutput):\n",
    "        \"\"\"\n",
    "        Computing the gradient of the module with respect to its own input. \n",
    "        This is returned in `gradInput`. Also, the `gradInput` state variable is updated accordingly.\n",
    "        \n",
    "        The shape of `gradInput` is always the same as the shape of `input`.\n",
    "        \n",
    "        Make sure to both store the gradients in `gradInput` field and return it.\n",
    "        \"\"\"\n",
    "        \n",
    "        # The easiest case:\n",
    "        \n",
    "        # self.gradInput = gradOutput \n",
    "        # return self.gradInput\n",
    "        \n",
    "        pass   \n",
    "    \n",
    "    def accGradParameters(self, input, gradOutput):\n",
    "        \"\"\"\n",
    "        Computing the gradient of the module with respect to its own parameters.\n",
    "        No need to override if module has no parameters (e.g. ReLU).\n",
    "        \"\"\"\n",
    "        pass\n",
    "    \n",
    "    def zeroGradParameters(self): \n",
    "        \"\"\"\n",
    "        Zeroes `gradParams` variable if the module has params.\n",
    "        \"\"\"\n",
    "        pass\n",
    "        \n",
    "    def getParameters(self):\n",
    "        \"\"\"\n",
    "        Returns a list with its parameters. \n",
    "        If the module does not have parameters return empty list. \n",
    "        \"\"\"\n",
    "        return []\n",
    "        \n",
    "    def getGradParameters(self):\n",
    "        \"\"\"\n",
    "        Returns a list with gradients with respect to its parameters. \n",
    "        If the module does not have parameters return empty list. \n",
    "        \"\"\"\n",
    "        return []\n",
    "    \n",
    "    def train(self):\n",
    "        \"\"\"\n",
    "        Sets training mode for the module.\n",
    "        Training and testing behaviour differs for Dropout, BatchNorm.\n",
    "        \"\"\"\n",
    "        self.training = True\n",
    "    \n",
    "    def evaluate(self):\n",
    "        \"\"\"\n",
    "        Sets evaluation mode for the module.\n",
    "        Training and testing behaviour differs for Dropout, BatchNorm.\n",
    "        \"\"\"\n",
    "        self.training = False\n",
    "    \n",
    "    def __repr__(self):\n",
    "        \"\"\"\n",
    "        Pretty printing. Should be overrided in every module if you want \n",
    "        to have readable description. \n",
    "        \"\"\"\n",
    "        return \"Module\""
   ]
  },
  {
   "cell_type": "markdown",
   "metadata": {
    "colab_type": "text",
    "id": "bJll0pSeoWqt"
   },
   "source": [
    "# Sequential container *[0.5 pts]*"
   ]
  },
  {
   "cell_type": "markdown",
   "metadata": {
    "colab_type": "text",
    "id": "xDuj2EzOoWqu"
   },
   "source": [
    "**Define** a forward and backward pass procedures."
   ]
  },
  {
   "cell_type": "code",
   "execution_count": 126,
   "metadata": {
    "colab": {},
    "colab_type": "code",
    "id": "RiUdlRvCoWqu"
   },
   "outputs": [],
   "source": [
    "class Sequential(Module):\n",
    "    \"\"\"\n",
    "         This class implements a container, which processes `input` data sequentially. \n",
    "         \n",
    "         `input` is processed by each module (layer) in self.modules consecutively.\n",
    "         The resulting array is called `output`. \n",
    "    \"\"\"\n",
    "    \n",
    "    def __init__ (self):\n",
    "        super(Sequential, self).__init__()\n",
    "        self.modules = []\n",
    "   \n",
    "    def add(self, module):\n",
    "        \"\"\"\n",
    "        Adds a module to the container.\n",
    "        \"\"\"\n",
    "        self.modules.append(module)\n",
    "\n",
    "    def updateOutput(self, input):\n",
    "        \"\"\"\n",
    "        Basic workflow of FORWARD PASS:\n",
    "        \n",
    "            y_0    = module[0].forward(input)\n",
    "            y_1    = module[1].forward(y_0)\n",
    "            ...\n",
    "            output = module[n-1].forward(y_{n-2})   \n",
    "            \n",
    "            \n",
    "        Just write a little loop. \n",
    "        \"\"\"\n",
    "\n",
    "        # Your code goes here. ################################################\n",
    "\n",
    "        output = input\n",
    "        \n",
    "        for module in self.modules:\n",
    "            output = module.forward(output)\n",
    "        self.output = output\n",
    "        \n",
    "        return self.output\n",
    "\n",
    "    def backward(self, input, gradOutput):\n",
    "        \"\"\"\n",
    "        Workflow of BACKWARD PASS:\n",
    "            \n",
    "            g_{n-1} = module[n-1].backward(y_{n-2}, gradOutput)\n",
    "            g_{n-2} = module[n-2].backward(y_{n-3}, g_{n-1})\n",
    "            ...\n",
    "            g_1 = module[1].backward(y_0, g_2)   \n",
    "            gradInput = module[0].backward(input, g_1)   \n",
    "             \n",
    "             \n",
    "        !!!\n",
    "                \n",
    "        To ech module you need to provide the input, module saw while forward pass, \n",
    "        it is used while computing gradients. \n",
    "        Make sure that the input for `i-th` layer the output of `module[i]` (just the same input as in forward pass) \n",
    "        and NOT `input` to this Sequential module. \n",
    "        \n",
    "        !!!\n",
    "        \n",
    "        \"\"\"\n",
    "        # Your code goes here. ################################################\n",
    "        \n",
    "        n = len(self.modules)\n",
    "        \n",
    "        self.modules[n-1].backward(self.modules[n-2].output, gradOutput)\n",
    "        \n",
    "        for i in reversed(range(len(self.modules))):\n",
    "            if i > 1:\n",
    "                self.modules[i-1].backward(self.modules[i-2].output, self.modules[i].gradInput)\n",
    "            else:\n",
    "                self.modules[0].backward(input, self.modules[1].gradInput)\n",
    "        \n",
    "        self.gradInput = self.modules[0].gradInput\n",
    "        return self.gradInput\n",
    "\n",
    "    def zeroGradParameters(self): \n",
    "        for module in self.modules:\n",
    "            module.zeroGradParameters()\n",
    "    \n",
    "    def getParameters(self):\n",
    "        \"\"\"\n",
    "        Should gather all parameters in a list.\n",
    "        \"\"\"\n",
    "        return [x.getParameters() for x in self.modules]\n",
    "    \n",
    "    def getGradParameters(self):\n",
    "        \"\"\"\n",
    "        Should gather all gradients w.r.t parameters in a list.\n",
    "        \"\"\"\n",
    "        return [x.getGradParameters() for x in self.modules]\n",
    "    \n",
    "    def __repr__(self):\n",
    "        string = \"\".join([str(x) + '\\n' for x in self.modules])\n",
    "        return string\n",
    "    \n",
    "    def __getitem__(self,x):\n",
    "        return self.modules.__getitem__(x)\n",
    "    \n",
    "    def train(self):\n",
    "        \"\"\"\n",
    "        Propagates training parameter through all modules\n",
    "        \"\"\"\n",
    "        self.training = True\n",
    "        for module in self.modules:\n",
    "            module.train()\n",
    "    \n",
    "    def evaluate(self):\n",
    "        \"\"\"\n",
    "        Propagates training parameter through all modules\n",
    "        \"\"\"\n",
    "        self.training = False\n",
    "        for module in self.modules:\n",
    "            module.evaluate()"
   ]
  },
  {
   "cell_type": "markdown",
   "metadata": {
    "colab_type": "text",
    "id": "UFYrLymqoWq1"
   },
   "source": [
    "# Layers"
   ]
  },
  {
   "cell_type": "markdown",
   "metadata": {
    "colab_type": "text",
    "id": "o6mHzZ7PoWq1"
   },
   "source": [
    "You need to implement everything in this part and make sure the code passes all tests. Read all the comments thoughtfully to ease the pain. Please try not to change the prototypes.\n",
    "\n",
    "Do not forget, that each module should return **AND** store `output` and `gradInput`.\n",
    "\n",
    "The assumption is that `module.backward` is always executed after `module.forward`,\n",
    "so `output` is stored, this would be useful for `SoftMax`. "
   ]
  },
  {
   "cell_type": "markdown",
   "metadata": {
    "colab_type": "text",
    "id": "vNIUEBxHoWq2"
   },
   "source": [
    "### Tech note\n",
    "\n",
    "* It is **strongly suggested to use vectorized operations on numpy arrays!** Avoid `for` loops whenever possible. It's very inefficient and might make your networks in Parts 3 and 4 training forever.\n",
    "\n",
    "* Prefer using `np.multiply`, `np.add`, `np.divide`, `np.subtract` instead of `*`,`+`,`/`,`-` for better memory handling. (e.g., `np.add(b,c,out = a)` instead of `a = b + c`)"
   ]
  },
  {
   "cell_type": "markdown",
   "metadata": {
    "colab_type": "text",
    "id": "_u6o1uJ0oWq2"
   },
   "source": [
    "## 1. Linear transform layer  *[0.5 pts]*\n",
    "Also known as dense layer, fully-connected layer, FC-layer, InnerProductLayer (in caffe), affine transform\n",
    "- input:   **`batch_size x n_feats1`**\n",
    "- output: **`batch_size x n_feats2`**"
   ]
  },
  {
   "cell_type": "code",
   "execution_count": 127,
   "metadata": {
    "colab": {},
    "colab_type": "code",
    "id": "XO32WJrZoWq3"
   },
   "outputs": [],
   "source": [
    "class Linear(Module):\n",
    "    \"\"\"\n",
    "    A module which applies a linear transformation \n",
    "    A common name is fully-connected layer, InnerProductLayer in caffe. \n",
    "    \n",
    "    The module should work with 2D input of shape (n_samples, n_feature).\n",
    "    \"\"\"\n",
    "    def __init__(self, n_in, n_out):\n",
    "        super(Linear, self).__init__()\n",
    "       \n",
    "        # This is a nice initialization\n",
    "        stdv = 1./np.sqrt(n_in)\n",
    "        self.W = np.random.uniform(-stdv, stdv, size = (n_out, n_in))\n",
    "        self.b = np.random.uniform(-stdv, stdv, size = n_out)\n",
    "        \n",
    "        self.gradW = np.zeros_like(self.W)\n",
    "        self.gradb = np.zeros_like(self.b)\n",
    "        \n",
    "    def updateOutput(self, input):\n",
    "        # self.output = ...\n",
    "        self.output = np.add(np.dot(input, self.W.T), self.b)\n",
    "        return self.output\n",
    "    \n",
    "    def updateGradInput(self, input, gradOutput):\n",
    "        # self.gradInput = ...\n",
    "        self.gradInput = np.dot(gradOutput, self.W)\n",
    "        return self.gradInput\n",
    "    \n",
    "    def accGradParameters(self, input, gradOutput):\n",
    "        # self.gradW = ...\n",
    "        # self.gradb = ...\n",
    "        self.gradW = np.dot(gradOutput.T, input)\n",
    "        self.gradb = gradOutput.sum(axis=0)\n",
    "    \n",
    "    def zeroGradParameters(self):\n",
    "        self.gradW.fill(0)\n",
    "        self.gradb.fill(0)\n",
    "        \n",
    "    def getParameters(self):\n",
    "        return [self.W, self.b]\n",
    "    \n",
    "    def getGradParameters(self):\n",
    "        return [self.gradW, self.gradb]\n",
    "    \n",
    "    def __repr__(self):\n",
    "        s = self.W.shape\n",
    "        q = 'Linear %d -> %d' %(s[1],s[0])\n",
    "        return q"
   ]
  },
  {
   "cell_type": "markdown",
   "metadata": {
    "colab_type": "text",
    "id": "7a74UrK0oWq5"
   },
   "source": [
    "## 2. SoftMax *[0.5 pts]*\n",
    "- input:   **`batch_size x n_feats`**\n",
    "- output: **`batch_size x n_feats`**\n",
    "\n",
    "$\\text{softmax}(x)_i = \\frac{\\exp x_i} {\\sum_j \\exp x_j}$\n",
    "\n",
    "Recall that $\\text{softmax}(x) == \\text{softmax}(x - \\text{const})$. It makes possible to avoid computing exp() from large argument."
   ]
  },
  {
   "cell_type": "code",
   "execution_count": 128,
   "metadata": {
    "colab": {},
    "colab_type": "code",
    "id": "VOW9OWeQoWq6"
   },
   "outputs": [],
   "source": [
    "class SoftMax(Module):\n",
    "    def __init__(self):\n",
    "         super(SoftMax, self).__init__()\n",
    "    \n",
    "    def updateOutput(self, input):\n",
    "        # start with normalization for numerical stability\n",
    "        # self.output = ...\n",
    "        \n",
    "        input_norm = input - input.max(axis=1, keepdims=True)\n",
    "        self.output = np.divide(np.exp(input_norm), np.sum(np.exp(input_norm), axis = 1, keepdims = True))\n",
    "        return self.output\n",
    "    \n",
    "    def updateGradInput(self, input, gradOutput):\n",
    "        # self.gradInput = ...\n",
    "\n",
    "        left = np.multiply(self.output, gradOutput)\n",
    "        right = np.multiply(self.output, np.sum(left, axis = 1, keepdims = True))\n",
    "        self.gradInput = np.subtract(left, right)        \n",
    "        return self.gradInput\n",
    "    \n",
    "    def __repr__(self):\n",
    "        return \"SoftMax\""
   ]
  },
  {
   "cell_type": "markdown",
   "metadata": {
    "colab_type": "text",
    "id": "r6JedVGsoWq7"
   },
   "source": [
    "## 3. LogSoftMax *[0.5 pts]*\n",
    "- input:   **`batch_size x n_feats`**\n",
    "- output: **`batch_size x n_feats`**\n",
    "\n",
    "$\\text{logsoftmax}(x)_i = \\log\\text{softmax}(x)_i = x_i - \\log {\\sum_j \\exp x_j}$\n",
    "\n",
    "The main goal of this layer is to be used in computation of log-likelihood loss."
   ]
  },
  {
   "cell_type": "code",
   "execution_count": 129,
   "metadata": {
    "colab": {},
    "colab_type": "code",
    "id": "cipe0yMgoWq7"
   },
   "outputs": [],
   "source": [
    "class LogSoftMax(Module):\n",
    "    def __init__(self):\n",
    "         super(LogSoftMax, self).__init__()\n",
    "    \n",
    "    def updateOutput(self, input):\n",
    "        # start with normalization for numerical stability\n",
    "        # self.output = ...\n",
    "        \n",
    "        input_norm = input - input.max(axis=1, keepdims=True)\n",
    "        self.output = input_norm - np.log(np.sum(np.exp(input_norm), axis = 1, keepdims = True))\n",
    "        return self.output\n",
    "    \n",
    "    def updateGradInput(self, input, gradOutput):\n",
    "        # self.gradInput = ...\n",
    "        self.gradInput = np.zeros(input.shape)\n",
    "        eye = np.eye(input.shape[1])\n",
    "        for i in range(input.shape[0]):\n",
    "            np.dot(gradOutput[i], np.subtract(eye, np.exp(self.output)[i]), out = self.gradInput[i])\n",
    "        return self.gradInput\n",
    "    \n",
    "    def __repr__(self):\n",
    "        return \"LogSoftMax\""
   ]
  },
  {
   "cell_type": "markdown",
   "metadata": {
    "colab_type": "text",
    "id": "r4mjx5GioWq9"
   },
   "source": [
    "## 4. Batch normalization *[1 pts]*\n",
    "One of the most significant recent ideas that impacted NNs a lot is [**Batch normalization**](http://arxiv.org/abs/1502.03167). The idea is simple, yet effective: the features should be whitened ($mean = 0$, $std = 1$) all the way through NN. This improves the convergence for deep models letting it train them for days but not weeks. **You are** to implement the first part of the layer: features normalization. The second part (`ChannelwiseScaling` layer) is implemented below.\n",
    "\n",
    "- input:   **`batch_size x n_feats`**\n",
    "- output: **`batch_size x n_feats`**\n",
    "\n",
    "The layer should work as follows. While training (`self.training == True`) it transforms input as $$y = \\frac{x - \\mu}  {\\sqrt{\\sigma + \\epsilon}}$$\n",
    "where $\\mu$ and $\\sigma$ - mean and variance of feature values in **batch** and $\\epsilon$ is just a small number for numericall stability. Also during training, layer should maintain exponential moving average values for mean and variance: \n",
    "```\n",
    "    self.moving_mean = self.moving_mean * alpha + batch_mean * (1 - alpha)\n",
    "    self.moving_variance = self.moving_variance * alpha + batch_variance * (1 - alpha)\n",
    "```\n",
    "During testing (`self.training == False`) the layer normalizes input using moving_mean and moving_variance. \n",
    "\n",
    "Note that decomposition of batch normalization on normalization itself and channelwise scaling here is just a common **implementation** choice. In general \"batch normalization\" always assumes normalization + scaling.\n",
    "\n",
    "**Hint:** to implement the gradients, you can derive yourself or refer to the original paper; [this guide](https://kevinzakka.github.io/2016/09/14/batch_normalization/) might also be useful."
   ]
  },
  {
   "cell_type": "code",
   "execution_count": 130,
   "metadata": {
    "colab": {},
    "colab_type": "code",
    "id": "yP8dnle4oWq9"
   },
   "outputs": [],
   "source": [
    "class BatchNormalization(Module):\n",
    "    EPS = 1e-3\n",
    "    def __init__(self, alpha = 0.):\n",
    "        super(BatchNormalization, self).__init__()\n",
    "        self.alpha = alpha\n",
    "        self.moving_mean = None \n",
    "        self.moving_variance = None\n",
    "        \n",
    "    def updateOutput(self, input):         \n",
    "        if self.training:\n",
    "            batch_mean = np.mean(input, axis=0, keepdims=True)\n",
    "            centered_input = input - batch_mean\n",
    "            batch_variance = np.var(input, axis=0, keepdims=True)\n",
    "            \n",
    "            if self.moving_mean is None:\n",
    "                self.moving_mean = batch_mean\n",
    "            else:\n",
    "                self.moving_mean = self.moving_mean * self.alpha + batch_mean * (1 - self.alpha)\n",
    "            \n",
    "            if self.moving_variance is None:\n",
    "                self.moving_variance = batch_variance\n",
    "            else:\n",
    "                self.moving_variance = self.moving_variance * self.alpha + batch_variance * (1 - self.alpha)\n",
    "            \n",
    "            self.output = centered_input / np.sqrt(batch_variance + self.EPS)\n",
    "        else:\n",
    "            if self.moving_mean is None:\n",
    "                self.output = input\n",
    "            else:\n",
    "                self.output = (input - self.moving_mean) / np.sqrt(self.moving_variance + self.EPS)\n",
    "            \n",
    "        return self.output\n",
    "    \n",
    "    def updateGradInput(self, input, gradOutput):\n",
    "        # self.gradInput = ...\n",
    "        \n",
    "        N, D = input.shape\n",
    "        \n",
    "        mean = np.mean(input, axis = 0, keepdims = True)\n",
    "        var = np.var(input, axis = 0, keepdims=True)\n",
    "\n",
    "        self.gradInput = np.divide(np.subtract(np.subtract(N * gradOutput, np.multiply(self.output, np.sum(gradOutput * self.output, axis=0))),\n",
    "                                               np.sum(gradOutput, axis=0)), N * np.sqrt(var + self.EPS))\n",
    "        return self.gradInput\n",
    "    \n",
    "    def __repr__(self):\n",
    "        return \"BatchNormalization\""
   ]
  },
  {
   "cell_type": "code",
   "execution_count": 131,
   "metadata": {
    "colab": {},
    "colab_type": "code",
    "id": "aCfUvrufoWrA"
   },
   "outputs": [],
   "source": [
    "class ChannelwiseScaling(Module):\n",
    "    \"\"\"\n",
    "       Implements linear transform of input y = \\gamma * x + \\beta\n",
    "       where \\gamma, \\beta - learnable vectors of length x.shape[-1]\n",
    "    \"\"\"\n",
    "    def __init__(self, n_out):\n",
    "        super(ChannelwiseScaling, self).__init__()\n",
    "\n",
    "        stdv = 1./np.sqrt(n_out)\n",
    "        self.gamma = np.random.uniform(-stdv, stdv, size=n_out)\n",
    "        self.beta = np.random.uniform(-stdv, stdv, size=n_out)\n",
    "        \n",
    "        self.gradGamma = np.zeros_like(self.gamma)\n",
    "        self.gradBeta = np.zeros_like(self.beta)\n",
    "\n",
    "    def updateOutput(self, input):\n",
    "        self.output = input * self.gamma + self.beta\n",
    "        return self.output\n",
    "        \n",
    "    def updateGradInput(self, input, gradOutput):\n",
    "        self.gradInput = gradOutput * self.gamma\n",
    "        return self.gradInput\n",
    "    \n",
    "    def accGradParameters(self, input, gradOutput):\n",
    "        self.gradBeta = np.sum(gradOutput, axis=0)\n",
    "        self.gradGamma = np.sum(gradOutput*input, axis=0)\n",
    "    \n",
    "    def zeroGradParameters(self):\n",
    "        self.gradGamma.fill(0)\n",
    "        self.gradBeta.fill(0)\n",
    "        \n",
    "    def getParameters(self):\n",
    "        return [self.gamma, self.beta]\n",
    "    \n",
    "    def getGradParameters(self):\n",
    "        return [self.gradGamma, self.gradBeta]\n",
    "    \n",
    "    def __repr__(self):\n",
    "        return \"ChannelwiseScaling\""
   ]
  },
  {
   "cell_type": "markdown",
   "metadata": {
    "colab_type": "text",
    "id": "6q3Sz4kToWrC"
   },
   "source": [
    "Practical notes. If BatchNormalization is placed after a linear transformation layer (including dense layer, convolutions, channelwise scaling) that implements function like `y = weight * x + bias`, than bias adding become useless and could be omitted since its effect will be discarded while batch mean subtraction. If BatchNormalization (followed by `ChannelwiseScaling`) is placed before a layer that propagates scale (including ReLU, LeakyReLU) followed by any linear transformation layer than parameter `gamma` in `ChannelwiseScaling` could be freezed since it could be absorbed into the linear transformation layer."
   ]
  },
  {
   "cell_type": "markdown",
   "metadata": {
    "colab_type": "text",
    "id": "2-RiiQYboWrD"
   },
   "source": [
    "## 5. Dropout *[0.5 pts]*\n",
    "Implement [**dropout**](https://www.cs.toronto.edu/~hinton/absps/JMLRdropout.pdf). The idea and implementation is really simple: just multiply the input by $Bernoulli(p)$ mask. Here $p$ is probability of an element to be zeroed.\n",
    "\n",
    "This has proven to be an effective technique for regularization and preventing the co-adaptation of neurons.\n",
    "\n",
    "While training (`self.training == True`) it should sample a mask on each iteration (for every batch), zero out elements and multiply elements by $1 / (1 - p)$. The latter is needed for keeping mean values of features close to mean values which will be in test mode. When testing this module should implement identity transform i.e. `self.output = input`.\n",
    "\n",
    "- input:   **`batch_size x n_feats`**\n",
    "- output: **`batch_size x n_feats`**"
   ]
  },
  {
   "cell_type": "code",
   "execution_count": 132,
   "metadata": {
    "colab": {},
    "colab_type": "code",
    "id": "nNjDjhjjoWrD"
   },
   "outputs": [],
   "source": [
    "class Dropout(Module):\n",
    "    def __init__(self, p=0.5):\n",
    "        super(Dropout, self).__init__()\n",
    "        \n",
    "        self.p = p\n",
    "        self.mask = None\n",
    "        \n",
    "    def updateOutput(self, input):\n",
    "        if self.training:\n",
    "            # self.output = ...\n",
    "            \n",
    "            # didnt work somewhy:\n",
    "            #self.mask = np.random.binomial(n = 1, p = self.p, size = input.shape)\n",
    "            \n",
    "            self.mask = np.random.choice([0, 1], size = input.shape, p = [self.p, 1. - self.p])\n",
    "            self.output = np.multiply(self.mask, np.divide(input, (1 - self.p)))\n",
    "        else:\n",
    "            # self.output = ...\n",
    "            self.mask = 1\n",
    "            self.output = input\n",
    "        return self.output\n",
    "    \n",
    "    def updateGradInput(self, input, gradOutput):\n",
    "        # self.gradInput = ...\n",
    "        self.gradInput = np.multiply(self.mask,  np.divide(gradOutput, (1 - self.p)))\n",
    "        return self.gradInput \n",
    "        \n",
    "    def __repr__(self):\n",
    "        return \"Dropout\""
   ]
  },
  {
   "cell_type": "markdown",
   "metadata": {
    "colab_type": "text",
    "id": "cUhyVAquoWrE"
   },
   "source": [
    "# Activation functions"
   ]
  },
  {
   "cell_type": "markdown",
   "metadata": {
    "colab_type": "text",
    "id": "fhH-c6o4oWrF"
   },
   "source": [
    "Here's the complete example for the **Rectified Linear Unit** non-linearity (aka **ReLU**): "
   ]
  },
  {
   "cell_type": "code",
   "execution_count": 133,
   "metadata": {
    "colab": {},
    "colab_type": "code",
    "id": "HgD2jlcMoWrF"
   },
   "outputs": [],
   "source": [
    "class ReLU(Module):\n",
    "    def __init__(self):\n",
    "         super(ReLU, self).__init__()\n",
    "    \n",
    "    def updateOutput(self, input):\n",
    "        # self.output = ...\n",
    "        self.output = np.maximum(0,input)\n",
    "        return self.output\n",
    "    \n",
    "    def updateGradInput(self, input, gradOutput):\n",
    "        # self.gradInput = ...\n",
    "        self.gradInput = np.multiply(gradOutput, input > 0)\n",
    "        return self.gradInput\n",
    "    \n",
    "    def __repr__(self):\n",
    "        return \"ReLU\""
   ]
  },
  {
   "cell_type": "markdown",
   "metadata": {
    "colab_type": "text",
    "id": "mv4toqL8oWrH"
   },
   "source": [
    "## 6. Leaky ReLU *[0.5 pts]*\n",
    "Implement [**Leaky Rectified Linear Unit**](http://en.wikipedia.org/wiki%2FRectifier_%28neural_networks%29%23Leaky_ReLUs). Expriment with slope. "
   ]
  },
  {
   "cell_type": "code",
   "execution_count": 134,
   "metadata": {
    "colab": {},
    "colab_type": "code",
    "id": "C12Sre_foWrI"
   },
   "outputs": [],
   "source": [
    "class LeakyReLU(Module):\n",
    "    def __init__(self, slope = 0.03):\n",
    "        super(LeakyReLU, self).__init__()\n",
    "            \n",
    "        self.slope = slope\n",
    "        \n",
    "    def updateOutput(self, input):\n",
    "        # self.output = ...\n",
    "        self.output =  np.multiply(np.where(input > 0, 1, self.slope),\n",
    "                                   input)\n",
    "        return  self.output\n",
    "    \n",
    "    def updateGradInput(self, input, gradOutput):\n",
    "        # self.gradInput = ...\n",
    "        self.gradInput = np.multiply(np.where(input > 0, 1, self.slope),\n",
    "                                   gradOutput)\n",
    "        return self.gradInput\n",
    "    \n",
    "    def __repr__(self):\n",
    "        return \"LeakyReLU\""
   ]
  },
  {
   "cell_type": "markdown",
   "metadata": {
    "colab_type": "text",
    "id": "PYuZ0zJWoWrJ"
   },
   "source": [
    "## 7. ELU *[0.5 pts]*\n",
    "Implement [**Exponential Linear Units**](http://arxiv.org/abs/1511.07289) activations."
   ]
  },
  {
   "cell_type": "code",
   "execution_count": 135,
   "metadata": {
    "colab": {},
    "colab_type": "code",
    "id": "x_9ko9IFoWrK"
   },
   "outputs": [],
   "source": [
    "class ELU(Module):\n",
    "    def __init__(self, alpha = 1.0):\n",
    "        super(ELU, self).__init__()\n",
    "        \n",
    "        self.alpha = alpha\n",
    "        \n",
    "    def updateOutput(self, input):\n",
    "        # self.output = ...\n",
    "        self.output = np.where(input > 0, input, \n",
    "                               np.multiply(self.alpha, np.exp(input) - 1))\n",
    "        return  self.output\n",
    "    \n",
    "    def updateGradInput(self, input, gradOutput):\n",
    "        # self.gradInput = ...\n",
    "        deriv = np.where(input > 0, 1,\n",
    "                                 np.multiply(self.alpha, np.exp(input)))\n",
    "        \n",
    "        self.gradInput = np.multiply(gradOutput, deriv)\n",
    "        return self.gradInput\n",
    "    \n",
    "    def __repr__(self):\n",
    "        return \"ELU\""
   ]
  },
  {
   "cell_type": "markdown",
   "metadata": {
    "colab_type": "text",
    "id": "6yMtoITAoWrL"
   },
   "source": [
    "## 8. SoftPlus *[0.5 pts]*\n",
    "Implement [**SoftPlus**](https://en.wikipedia.org/wiki%2FRectifier_%28neural_networks%29) activations. Look, how they look a lot like ReLU."
   ]
  },
  {
   "cell_type": "code",
   "execution_count": 136,
   "metadata": {
    "colab": {},
    "colab_type": "code",
    "id": "sFgd48b_oWrL"
   },
   "outputs": [],
   "source": [
    "import scipy.special\n",
    "\n",
    "class SoftPlus(Module):\n",
    "    def __init__(self):\n",
    "        super(SoftPlus, self).__init__()\n",
    "    \n",
    "    def updateOutput(self, input):\n",
    "        # self.output = ...\n",
    "        self.output = np.log(1 + np.exp(input))\n",
    "        return  self.output\n",
    "    \n",
    "    def updateGradInput(self, input, gradOutput):\n",
    "        # self.gradInput = ...\n",
    "        self.gradInput = np.multiply(gradOutput, \n",
    "                                     np.divide(1, 1 + np.exp(-input)))\n",
    "        return self.gradInput\n",
    "    \n",
    "    def __repr__(self):\n",
    "        return \"SoftPlus\""
   ]
  },
  {
   "cell_type": "markdown",
   "metadata": {
    "colab_type": "text",
    "id": "_gsFcPz6oWrN"
   },
   "source": [
    "# Criterions"
   ]
  },
  {
   "cell_type": "markdown",
   "metadata": {
    "colab_type": "text",
    "id": "9TtUUOAJoWrN"
   },
   "source": [
    "Criterions are used to score the models answers. "
   ]
  },
  {
   "cell_type": "code",
   "execution_count": 137,
   "metadata": {
    "colab": {},
    "colab_type": "code",
    "id": "RFccied_oWrN"
   },
   "outputs": [],
   "source": [
    "class Criterion(object):\n",
    "    def __init__ (self):\n",
    "        self.output = None\n",
    "        self.gradInput = None\n",
    "        \n",
    "    def forward(self, input, target):\n",
    "        \"\"\"\n",
    "            Given an input and a target, compute the loss function \n",
    "            associated to the criterion and return the result.\n",
    "            \n",
    "            For consistency this function should not be overrided,\n",
    "            all the code goes in `updateOutput`.\n",
    "        \"\"\"\n",
    "        return self.updateOutput(input, target)\n",
    "\n",
    "    def backward(self, input, target):\n",
    "        \"\"\"\n",
    "            Given an input and a target, compute the gradients of the loss function\n",
    "            associated to the criterion and return the result. \n",
    "\n",
    "            For consistency this function should not be overrided,\n",
    "            all the code goes in `updateGradInput`.\n",
    "        \"\"\"\n",
    "        return self.updateGradInput(input, target)\n",
    "    \n",
    "    def updateOutput(self, input, target):\n",
    "        \"\"\"\n",
    "        Function to override.\n",
    "        \"\"\"\n",
    "        return self.output\n",
    "\n",
    "    def updateGradInput(self, input, target):\n",
    "        \"\"\"\n",
    "        Function to override.\n",
    "        \"\"\"\n",
    "        return self.gradInput   \n",
    "\n",
    "    def __repr__(self):\n",
    "        \"\"\"\n",
    "        Pretty printing. Should be overrided in every module if you want \n",
    "        to have readable description. \n",
    "        \"\"\"\n",
    "        return \"Criterion\""
   ]
  },
  {
   "cell_type": "markdown",
   "metadata": {
    "colab_type": "text",
    "id": "9r0CnWweoWrP"
   },
   "source": [
    "The **MSECriterion**, which is basic L2 norm usually used for regression, is implemented here for you.\n",
    "- input:   **`batch_size x n_feats`**\n",
    "- target: **`batch_size x n_feats`**\n",
    "- output: **scalar**"
   ]
  },
  {
   "cell_type": "code",
   "execution_count": 138,
   "metadata": {
    "colab": {},
    "colab_type": "code",
    "id": "vJMbDob-oWrP"
   },
   "outputs": [],
   "source": [
    "class MSECriterion(Criterion):\n",
    "    def __init__(self):\n",
    "        super(MSECriterion, self).__init__()\n",
    "        \n",
    "    def updateOutput(self, input, target):   \n",
    "        self.output = np.sum(np.power(input - target,2)) / input.shape[0]\n",
    "        return self.output \n",
    " \n",
    "    def updateGradInput(self, input, target):\n",
    "        self.gradInput  = (input - target) * 2 / input.shape[0]\n",
    "        return self.gradInput\n",
    "\n",
    "    def __repr__(self):\n",
    "        return \"MSECriterion\""
   ]
  },
  {
   "cell_type": "markdown",
   "metadata": {
    "colab_type": "text",
    "id": "qopeM_TnoWrR"
   },
   "source": [
    "## 9. Negative LogLikelihood criterion (numerically unstable) *[0.5 pts]*\n",
    "You task is to implement the **ClassNLLCriterion**. It should implement [multiclass log loss](http://scikit-learn.org/stable/modules/model_evaluation.html#log-loss). Nevertheless there is a sum over `y` (target) in that formula, \n",
    "remember that targets are one-hot encoded. This fact simplifies the computations a lot. Note, that criterions are the only places, where you divide by batch size. Also there is a small hack with adding small number to probabilities to avoid computing log(0).\n",
    "- input:   **`batch_size x n_feats`** - probabilities\n",
    "- target: **`batch_size x n_feats`** - one-hot representation of ground truth\n",
    "- output: **scalar**\n",
    "\n"
   ]
  },
  {
   "cell_type": "code",
   "execution_count": 139,
   "metadata": {
    "colab": {},
    "colab_type": "code",
    "id": "A_VmxeDdoWrS"
   },
   "outputs": [],
   "source": [
    "class ClassNLLCriterionUnstable(Criterion):\n",
    "    EPS = 1e-15\n",
    "    def __init__(self):\n",
    "        a = super(ClassNLLCriterionUnstable, self)\n",
    "        super(ClassNLLCriterionUnstable, self).__init__()\n",
    "        \n",
    "    def updateOutput(self, input, target): \n",
    "        # Use this trick to avoid numerical errors\n",
    "        input_clamp = np.clip(input, self.EPS, 1 - self.EPS)\n",
    "        \n",
    "        # self.output = ...\n",
    "        self.output = - np.sum(np.multiply(target, np.log(input_clamp))) / len(input_clamp)\n",
    "        return self.output\n",
    "\n",
    "    def updateGradInput(self, input, target):\n",
    "        # Use this trick to avoid numerical errors\n",
    "        input_clamp = np.clip(input, self.EPS, 1 - self.EPS)\n",
    "                \n",
    "        # self.gradInput = ...\n",
    "        self.gradInput = - np.divide(target, input_clamp) / len(input_clamp)  \n",
    "        return self.gradInput\n",
    "    \n",
    "    def __repr__(self):\n",
    "        return \"ClassNLLCriterionUnstable\""
   ]
  },
  {
   "cell_type": "markdown",
   "metadata": {
    "colab_type": "text",
    "id": "2WEtTHYeoWrT"
   },
   "source": [
    "## 10. Negative LogLikelihood criterion (numerically stable) *[0.5 pts]*\n",
    "- input:   **`batch_size x n_feats`** - log probabilities\n",
    "- target: **`batch_size x n_feats`** - one-hot representation of ground truth\n",
    "- output: **scalar**\n",
    "\n",
    "Task is similar to the previous one, but now the criterion input is the output of log-softmax layer. This decomposition allows us to avoid problems with computation of forward and backward of log()."
   ]
  },
  {
   "cell_type": "code",
   "execution_count": 140,
   "metadata": {
    "colab": {},
    "colab_type": "code",
    "id": "zM1cduJDoWrT"
   },
   "outputs": [],
   "source": [
    "class ClassNLLCriterion(Criterion):\n",
    "    def __init__(self):\n",
    "        a = super(ClassNLLCriterion, self)\n",
    "        super(ClassNLLCriterion, self).__init__()\n",
    "        \n",
    "    def updateOutput(self, input, target): \n",
    "        # self.output = ...\n",
    "        self.output = - np.sum(target * input) / len(input)\n",
    "        return self.output\n",
    "\n",
    "    def updateGradInput(self, input, target):\n",
    "        # self.gradInput = ...\n",
    "        self.gradInput = - target / len(input)\n",
    "        return self.gradInput\n",
    "    \n",
    "    def __repr__(self):\n",
    "        return \"ClassNLLCriterion\""
   ]
  },
  {
   "cell_type": "markdown",
   "metadata": {
    "colab_type": "text",
    "id": "1QS2hXlHoWrV"
   },
   "source": [
    "# Optimizers"
   ]
  },
  {
   "cell_type": "markdown",
   "metadata": {
    "colab_type": "text",
    "id": "z8G34wxkoWrV"
   },
   "source": [
    "### SGD optimizer with momentum\n",
    "- `variables` - list of lists of variables (one list per layer)\n",
    "- `gradients` - list of lists of current gradients (same structure as for `variables`, one array for each var)\n",
    "- `config` - dict with optimization parameters (`learning_rate` and `momentum`)\n",
    "- `state` - dict with optimizator state (used to save accumulated gradients)"
   ]
  },
  {
   "cell_type": "code",
   "execution_count": 141,
   "metadata": {
    "colab": {},
    "colab_type": "code",
    "id": "7rCKvOt3oWrV"
   },
   "outputs": [],
   "source": [
    "def sgd_momentum(variables, gradients, config, state):  \n",
    "    # 'variables' and 'gradients' have complex structure, accumulated_grads will be stored in a simpler one\n",
    "    state.setdefault('accumulated_grads', {})\n",
    "    \n",
    "    var_index = 0 \n",
    "    for current_layer_vars, current_layer_grads in zip(variables, gradients): \n",
    "        for current_var, current_grad in zip(current_layer_vars, current_layer_grads):\n",
    "            \n",
    "            old_grad = state['accumulated_grads'].setdefault(var_index, np.zeros_like(current_grad))\n",
    "            \n",
    "            np.add(config['momentum'] * old_grad, config['learning_rate'] * current_grad, out=old_grad)\n",
    "            \n",
    "            current_var -= old_grad\n",
    "            var_index += 1     "
   ]
  },
  {
   "cell_type": "markdown",
   "metadata": {
    "colab_type": "text",
    "id": "N23sFVSnoWrX"
   },
   "source": [
    "## 12. [Adam](https://arxiv.org/pdf/1412.6980.pdf) optimizer *[0.5 pts]*\n",
    "- `variables` - list of lists of variables (one list per layer)\n",
    "- `gradients` - list of lists of current gradients (same structure as for `variables`, one array for each var)\n",
    "- `config` - dict with optimization parameters (`learning_rate`, `beta1`, `beta2`, `epsilon`)\n",
    "- `state` - dict with optimizator state (used to save 1st and 2nd moment for vars)\n",
    "\n",
    "Formulas for optimizer:\n",
    "\n",
    "Current step learning rate: $$\\text{lr}_t = \\text{learning_rate} * \\frac{\\sqrt{1-\\beta_2^t}} {1-\\beta_1^t}$$\n",
    "First moment of var: $$\\mu_t = \\beta_1 * \\mu_{t-1} + (1 - \\beta_1)*g$$ \n",
    "Second moment of var: $$v_t = \\beta_2 * v_{t-1} + (1 - \\beta_2)*g*g$$\n",
    "New values of var: $$\\text{variable} = \\text{variable} - \\text{lr}_t * \\frac{m_t}{\\sqrt{v_t} + \\epsilon}$$"
   ]
  },
  {
   "cell_type": "code",
   "execution_count": 142,
   "metadata": {
    "colab": {},
    "colab_type": "code",
    "id": "yLZZ4jL8oWrX"
   },
   "outputs": [],
   "source": [
    "def adam_optimizer(variables, gradients, config, state):  \n",
    "    # 'variables' and 'gradients' have complex structure, accumulated_grads will be stored in a simpler one\n",
    "    state.setdefault('m', {})  # first moment vars\n",
    "    state.setdefault('v', {})  # second moment vars\n",
    "    state.setdefault('t', 0)   # timestamp\n",
    "    state['t'] += 1\n",
    "    for k in ['learning_rate', 'beta1', 'beta2', 'epsilon']:\n",
    "        assert k in config, config.keys()\n",
    "    \n",
    "    var_index = 0 \n",
    "    lr_t = config['learning_rate'] * np.sqrt(1 - config['beta2']**state['t']) / (1 - config['beta1']**state['t'])\n",
    "    for current_layer_vars, current_layer_grads in zip(variables, gradients): \n",
    "        for current_var, current_grad in zip(current_layer_vars, current_layer_grads):\n",
    "            var_first_moment = state['m'].setdefault(var_index, np.zeros_like(current_grad))\n",
    "            var_second_moment = state['v'].setdefault(var_index, np.zeros_like(current_grad))\n",
    "            \n",
    "            # <YOUR CODE> #######################################\n",
    "            # update `current_var_first_moment`, `var_second_moment` and `current_var` values\n",
    "            \n",
    "            np.add(config['beta1'] * var_first_moment, (1 - config['beta1']) * current_grad, out = var_first_moment)\n",
    "            np.add(config['beta2'] * var_second_moment, (1 - config['beta2']) * current_grad * current_grad, out = var_second_moment)\n",
    "            current_var -= lr_t * state['m'][var_index] / (np.sqrt(var_second_moment) + config['epsilon'])\n",
    "            \n",
    "            # #####################################\n",
    "            \n",
    "            # small checks that you've updated the state; use np.add for rewriting np.arrays values\n",
    "            assert var_first_moment is state['m'].get(var_index)\n",
    "            assert var_second_moment is state['v'].get(var_index)\n",
    "            var_index += 1\n"
   ]
  },
  {
   "cell_type": "markdown",
   "metadata": {
    "colab_type": "text",
    "id": "9NBUZpFioWrY"
   },
   "source": [
    "## Testing the modules\n",
    "\n",
    "Please run the following code provided for you to check the correctness of the implementations. It is strongly advised to run this code frequently while completing the homework.\n",
    "\n",
    "You don't need to modify the cells in this section."
   ]
  },
  {
   "cell_type": "code",
   "execution_count": 143,
   "metadata": {
    "colab": {},
    "colab_type": "code",
    "id": "EYrN5LcLoWrZ"
   },
   "outputs": [],
   "source": [
    "from test_modules import make_tester\n",
    "import unittest"
   ]
  },
  {
   "cell_type": "code",
   "execution_count": 144,
   "metadata": {
    "colab": {},
    "colab_type": "code",
    "id": "550_RjfXoWrb"
   },
   "outputs": [],
   "source": [
    "TestLayers = make_tester({\n",
    "    'Sequential': Sequential,\n",
    "    'Linear': Linear,\n",
    "    'SoftMax': SoftMax,\n",
    "    'LogSoftMax': LogSoftMax,\n",
    "    'BatchNormalization': BatchNormalization,\n",
    "    'ChannelwiseScaling': ChannelwiseScaling,\n",
    "    'Dropout': Dropout,\n",
    "    'ReLU': ReLU,\n",
    "    'LeakyReLU': LeakyReLU,\n",
    "    'ELU': ELU,\n",
    "    'SoftPlus': SoftPlus,\n",
    "    'ClassNLLCriterion': ClassNLLCriterion,\n",
    "    'ClassNLLCriterionUnstable': ClassNLLCriterionUnstable,\n",
    "    'adam_optimizer': adam_optimizer,\n",
    "})"
   ]
  },
  {
   "cell_type": "code",
   "execution_count": 145,
   "metadata": {
    "colab": {},
    "colab_type": "code",
    "id": "O9CxbTlNoWrc"
   },
   "outputs": [],
   "source": [
    "suite = unittest.TestLoader().loadTestsFromTestCase(TestLayers)"
   ]
  },
  {
   "cell_type": "code",
   "execution_count": 146,
   "metadata": {
    "colab": {
     "base_uri": "https://localhost:8080/",
     "height": 340
    },
    "colab_type": "code",
    "id": "jsoaq97aoWrd",
    "outputId": "2a7fcaa3-e88c-4227-f384-902809dd18af"
   },
   "outputs": [
    {
     "name": "stderr",
     "output_type": "stream",
     "text": [
      "test_BatchNormalization (test_modules.make_tester.<locals>._tester) ... ok\n",
      "test_ClassNLLCriterion (test_modules.make_tester.<locals>._tester) ... ok\n",
      "test_ClassNLLCriterionUnstable (test_modules.make_tester.<locals>._tester) ... ok\n",
      "test_Dropout (test_modules.make_tester.<locals>._tester) ... ok\n",
      "test_ELU (test_modules.make_tester.<locals>._tester) ... ok\n",
      "test_LeakyReLU (test_modules.make_tester.<locals>._tester) ... ok\n",
      "test_Linear (test_modules.make_tester.<locals>._tester) ... ok\n",
      "test_LogSoftMax (test_modules.make_tester.<locals>._tester) ... ok\n",
      "test_Sequential_BatchNorm_ChannelwiseScaling (test_modules.make_tester.<locals>._tester) ... ok\n",
      "test_Sequential_Linear_LeakyReLU (test_modules.make_tester.<locals>._tester) ... ok\n",
      "test_SoftMax (test_modules.make_tester.<locals>._tester) ... ok\n",
      "test_SoftPlus (test_modules.make_tester.<locals>._tester) ... ok\n",
      "test_adam_optimizer (test_modules.make_tester.<locals>._tester) ... ok\n",
      "\n",
      "----------------------------------------------------------------------\n",
      "Ran 13 tests in 0.811s\n",
      "\n",
      "OK\n"
     ]
    },
    {
     "data": {
      "text/plain": [
       "<unittest.runner.TextTestResult run=13 errors=0 failures=0>"
      ]
     },
     "execution_count": 146,
     "metadata": {},
     "output_type": "execute_result"
    }
   ],
   "source": [
    "unittest.TextTestRunner(verbosity=2).run(suite)"
   ]
  },
  {
   "cell_type": "markdown",
   "metadata": {
    "colab_type": "text",
    "id": "UmuSudWwoWrf"
   },
   "source": [
    "# Part 3: Training your first network"
   ]
  },
  {
   "cell_type": "code",
   "execution_count": 1,
   "metadata": {
    "colab": {},
    "colab_type": "code",
    "id": "AlETTGxcoWrf"
   },
   "outputs": [],
   "source": [
    "%matplotlib inline\n",
    "from time import time, sleep\n",
    "import numpy as np\n",
    "import matplotlib.pyplot as plt\n",
    "from IPython import display\n",
    "from tqdm import tqdm"
   ]
  },
  {
   "cell_type": "markdown",
   "metadata": {
    "colab_type": "text",
    "id": "jt-OKhs6oWrh"
   },
   "source": [
    "# Toy example\n",
    "\n",
    "Use this example to debug your code, start with logistic regression and then test other layers. You do not need to change anything here. This code is provided for you to test the layers. Also it is easy to use this code in MNIST task."
   ]
  },
  {
   "cell_type": "code",
   "execution_count": 148,
   "metadata": {
    "colab": {
     "base_uri": "https://localhost:8080/",
     "height": 282
    },
    "colab_type": "code",
    "id": "DV1Nhq2soWrh",
    "outputId": "8642a83a-5699-4402-c6fe-ee79b7af95a7"
   },
   "outputs": [
    {
     "data": {
      "text/plain": [
       "<matplotlib.collections.PathCollection at 0x1286a7d10>"
      ]
     },
     "execution_count": 148,
     "metadata": {},
     "output_type": "execute_result"
    },
    {
     "data": {
      "image/png": "[encoded data removed]",
      "text/plain": [
       "<Figure size 432x288 with 1 Axes>"
      ]
     },
     "metadata": {
      "needs_background": "light"
     },
     "output_type": "display_data"
    }
   ],
   "source": [
    "# Generate some data\n",
    "N = 500\n",
    "\n",
    "X1 = np.random.randn(N,2) + np.array([2,2])\n",
    "X2 = np.random.randn(N,2) + np.array([-2,-2])\n",
    "\n",
    "Y = np.concatenate([np.ones(N),np.zeros(N)])[:,None]\n",
    "Y = np.hstack([Y, 1-Y])\n",
    "\n",
    "X = np.vstack([X1,X2])\n",
    "plt.scatter(X[:,0], X[:,1], c=Y[:,0], edgecolors= 'none')"
   ]
  },
  {
   "cell_type": "markdown",
   "metadata": {
    "colab_type": "text",
    "id": "gmXJ1cR1oWrj"
   },
   "source": [
    "Define a **logistic regression** for debugging. "
   ]
  },
  {
   "cell_type": "code",
   "execution_count": 149,
   "metadata": {
    "colab": {
     "base_uri": "https://localhost:8080/",
     "height": 102
    },
    "colab_type": "code",
    "id": "AztQQkM-oWrj",
    "outputId": "45629b27-80b1-4010-cac3-a0ded32546c2"
   },
   "outputs": [
    {
     "name": "stdout",
     "output_type": "stream",
     "text": [
      "Linear 2 -> 4\n",
      "ReLU\n",
      "Linear 4 -> 2\n",
      "LogSoftMax\n",
      "\n"
     ]
    }
   ],
   "source": [
    "#net = Sequential()\n",
    "#net.add(Linear(2, 2))\n",
    "#net.add(LogSoftMax())\n",
    "\n",
    "#criterion = ClassNLLCriterion()\n",
    "\n",
    "#print(net)\n",
    "\n",
    "# Test something like this then \n",
    "\n",
    "net = Sequential()\n",
    "net.add(Linear(2, 4))\n",
    "net.add(ReLU())\n",
    "net.add(Linear(4, 2))\n",
    "net.add(LogSoftMax())\n",
    "\n",
    "criterion = ClassNLLCriterion()\n",
    "\n",
    "print(net)"
   ]
  },
  {
   "cell_type": "markdown",
   "metadata": {
    "colab_type": "text",
    "id": "Oqgv5IyZoWrk"
   },
   "source": [
    "Start with batch_size = 1000 to make sure every step lowers the loss, then try stochastic version."
   ]
  },
  {
   "cell_type": "code",
   "execution_count": 150,
   "metadata": {
    "colab": {},
    "colab_type": "code",
    "id": "woYM5QyLoWrl"
   },
   "outputs": [],
   "source": [
    "# Iptimizer params\n",
    "optimizer_config = {'learning_rate' : 1e-1, 'momentum': 0.9}\n",
    "optimizer_state = {}\n",
    "\n",
    "# Looping params\n",
    "n_epoch = 20\n",
    "batch_size = 128"
   ]
  },
  {
   "cell_type": "code",
   "execution_count": 151,
   "metadata": {
    "colab": {},
    "colab_type": "code",
    "id": "EJBIJnh6oWrm"
   },
   "outputs": [],
   "source": [
    "# batch generator\n",
    "def get_batches(dataset, batch_size):\n",
    "    X, Y = dataset\n",
    "    n_samples = X.shape[0]\n",
    "        \n",
    "    # Shuffle at the start ofFa epoch\n",
    "    indices = np.arange(n_samples)\n",
    "    np.random.shuffle(indices)\n",
    "    \n",
    "    for start in range(0, n_samples, batch_size):\n",
    "        end = min(start + batch_size, n_samples)\n",
    "        \n",
    "        batch_idx = indices[start:end]\n",
    "    \n",
    "        yield X[batch_idx], Y[batch_idx]"
   ]
  },
  {
   "cell_type": "markdown",
   "metadata": {
    "colab_type": "text",
    "id": "ieKDRDS9oWro"
   },
   "source": [
    "### Train"
   ]
  },
  {
   "cell_type": "markdown",
   "metadata": {
    "colab_type": "text",
    "id": "yuD4urMooWro"
   },
   "source": [
    "Basic training loop. Examine it."
   ]
  },
  {
   "cell_type": "code",
   "execution_count": 152,
   "metadata": {
    "colab": {
     "base_uri": "https://localhost:8080/",
     "height": 421
    },
    "colab_type": "code",
    "id": "IUW7ethFoWro",
    "outputId": "ddac39b2-e974-4fe3-f519-74689b084299"
   },
   "outputs": [
    {
     "data": {
      "image/png": "[encoded data removed]",
      "text/plain": [
       "<Figure size 576x432 with 1 Axes>"
      ]
     },
     "metadata": {
      "needs_background": "light"
     },
     "output_type": "display_data"
    },
    {
     "name": "stdout",
     "output_type": "stream",
     "text": [
      "Current loss: 0.001349\n"
     ]
    }
   ],
   "source": [
    "loss_history = []\n",
    "\n",
    "for i in range(n_epoch):\n",
    "    for x_batch, y_batch in get_batches((X, Y), batch_size):\n",
    "        \n",
    "        net.zeroGradParameters()\n",
    "        \n",
    "        # Forward\n",
    "        predictions = net.forward(x_batch)\n",
    "        loss = criterion.forward(predictions, y_batch)\n",
    "    \n",
    "        # Backward\n",
    "        dp = criterion.backward(predictions, y_batch)\n",
    "        net.backward(x_batch, dp)\n",
    "        \n",
    "        # Update weights\n",
    "        sgd_momentum(net.getParameters(), \n",
    "                     net.getGradParameters(), \n",
    "                     optimizer_config,\n",
    "                     optimizer_state)      \n",
    "        \n",
    "        loss_history.append(loss)\n",
    "\n",
    "    # Visualize\n",
    "    display.clear_output(wait=True)\n",
    "    plt.figure(figsize=(8, 6))\n",
    "        \n",
    "    plt.title(\"Training loss\")\n",
    "    plt.xlabel(\"#iteration\")\n",
    "    plt.ylabel(\"loss\")\n",
    "    plt.plot(loss_history, 'b')\n",
    "    plt.show()\n",
    "    \n",
    "    print('Current loss: %f' % loss)    "
   ]
  },
  {
   "cell_type": "markdown",
   "metadata": {
    "colab_type": "text",
    "id": "OWx4R8gboWrq"
   },
   "source": [
    "# Digit classification "
   ]
  },
  {
   "cell_type": "markdown",
   "metadata": {
    "colab_type": "text",
    "id": "DM3_mRKaoWrq"
   },
   "source": [
    "We will be using old good [MNIST](http://yann.lecun.com/exdb/mnist/) as our dataset."
   ]
  },
  {
   "cell_type": "code",
   "execution_count": 2,
   "metadata": {
    "colab": {},
    "colab_type": "code",
    "id": "jeooe_6xoWrq"
   },
   "outputs": [],
   "source": [
    "import mnist\n",
    "X_train, y_train, X_val, y_val, X_test, y_test_class = mnist.load_dataset()"
   ]
  },
  {
   "cell_type": "markdown",
   "metadata": {
    "colab_type": "text",
    "id": "0DRcCaJVoWrr"
   },
   "source": [
    "One-hot encode the labels first."
   ]
  },
  {
   "cell_type": "code",
   "execution_count": 3,
   "metadata": {
    "colab": {},
    "colab_type": "code",
    "id": "G0j7wlg2oWrs"
   },
   "outputs": [],
   "source": [
    "from sklearn.preprocessing import OneHotEncoder\n",
    "\n",
    "ohot_encoder = OneHotEncoder(categories=[range(10)])\n",
    "\n",
    "y_train = np.asarray(ohot_encoder.fit_transform(y_train.reshape(-1, 1)).todense())\n",
    "y_val = np.asarray(ohot_encoder.transform(y_val.reshape(-1, 1)).todense())\n",
    "y_test = np.asarray(ohot_encoder.transform(y_test_class.reshape(-1, 1)).todense())"
   ]
  },
  {
   "cell_type": "code",
   "execution_count": 4,
   "metadata": {
    "colab": {},
    "colab_type": "code",
    "id": "WUzsYvmloWrt"
   },
   "outputs": [],
   "source": [
    "X_train = X_train.reshape(X_train.shape[0], -1)\n",
    "X_val = X_val.reshape(X_val.shape[0], -1)\n",
    "X_test = X_test.reshape(X_test.shape[0], -1)"
   ]
  },
  {
   "cell_type": "markdown",
   "metadata": {
    "colab_type": "text",
    "id": "R_IqYgegoWru"
   },
   "source": [
    "-  *[2 pts]* **Compare** `ReLU`, `ELU`, `LeakyReLU`, `SoftPlus` activation functions. \n",
    "Use an architecture of your choice for the comparison (no need to pick the best optimizer parameters for now). Write your personal opinion on the activation functions, think about computation times too. Plot the loss curves from activation functions comparison on a single plot. Please find a scale (log?) when the lines are distinguishable, do not forget about naming the axes, the plot should be informative. \n",
    "\n",
    "- *[1 pts]* **Try** inserting `BatchNormalization` (followed by `ChannelwiseScaling`) between `Linear` module and activation functions. For all activation functions, plot versions with and without `BatchNormalization` on a single plot. Please find a scale (log?) when the lines are distinguishable, do not forget about naming the axes, the plot should be goodlooking.  Does `BatchNormalization` help?\n",
    "\n",
    "- *[1 pts]* Plot the losses for two networks: one trained by momentum_sgd, another one trained by Adam. Which one performs better?  \n",
    "\n",
    "- *[2 pts]* Increase the number of parameters in the network. Try inserting the Dropout layer. Compare the validation performance and the gap between test and validation performances for the two experiments (with and without Dropout). Compare the loss plots. Which one converges slower?\n"
   ]
  },
  {
   "cell_type": "markdown",
   "metadata": {
    "colab_type": "text",
    "id": "xvy-656yoWrv"
   },
   "source": [
    "#### 1. **Compare** `ReLU`, `ELU`, `LeakyReLU`, `SoftPlus` activation functions. "
   ]
  },
  {
   "cell_type": "code",
   "execution_count": 156,
   "metadata": {},
   "outputs": [],
   "source": [
    "from sklearn.metrics import accuracy_score"
   ]
  },
  {
   "cell_type": "code",
   "execution_count": 157,
   "metadata": {
    "colab": {},
    "colab_type": "code",
    "id": "Yz_VDRqgoWry"
   },
   "outputs": [],
   "source": [
    "# Optimizer params\n",
    "optimizer_config = {'learning_rate' : 1e-1, 'momentum': 0.9}\n",
    "optimizer_state_relu = {}\n",
    "optimizer_state_leaky_relu = {}\n",
    "optimizer_state_elu = {}\n",
    "optimizer_state_softplus = {}\n",
    "\n",
    "# Train params\n",
    "n_epoch = 25\n",
    "batch_size = 1000\n",
    "\n",
    "# Nets\n",
    "net_relu = Sequential()\n",
    "net_relu.add(Linear(784, 100))\n",
    "net_relu.add(ReLU())\n",
    "net_relu.add(Linear(100, 10))\n",
    "net_relu.add(LogSoftMax())\n",
    "\n",
    "net_leaky_relu = Sequential()\n",
    "net_leaky_relu.add(Linear(784, 100))\n",
    "net_leaky_relu.add(LeakyReLU())\n",
    "net_leaky_relu.add(Linear(100, 10))\n",
    "net_leaky_relu.add(LogSoftMax())\n",
    "\n",
    "net_elu = Sequential()\n",
    "net_elu.add(Linear(784, 100))\n",
    "net_elu.add(ELU())\n",
    "net_elu.add(Linear(100, 10))\n",
    "net_elu.add(LogSoftMax())\n",
    "\n",
    "net_softplus = Sequential()\n",
    "net_softplus.add(Linear(784, 100))\n",
    "net_softplus.add(SoftPlus())\n",
    "net_softplus.add(Linear(100, 10))\n",
    "net_softplus.add(LogSoftMax())\n",
    "\n",
    "# Loss function\n",
    "criterion = ClassNLLCriterion()\n",
    "\n",
    "\n",
    "# containers for comparison\n",
    "train_loss_relu = []\n",
    "train_loss_leaky_relu = []\n",
    "train_loss_elu = []\n",
    "train_loss_softplus = []\n",
    "\n",
    "val_loss_relu = []\n",
    "val_loss_leaky_relu = []\n",
    "val_loss_elu = []\n",
    "val_loss_softplus = []\n",
    "\n",
    "time_relu = 0\n",
    "time_leaky_relu = 0\n",
    "time_elu = 0\n",
    "time_softplus = 0"
   ]
  },
  {
   "cell_type": "code",
   "execution_count": 159,
   "metadata": {
    "colab": {
     "base_uri": "https://localhost:8080/",
     "height": 1000
    },
    "colab_type": "code",
    "id": "Vc-V74AroWrz",
    "outputId": "151fa792-d64a-4ad2-fe61-5a9a8b1913ae"
   },
   "outputs": [
    {
     "name": "stderr",
     "output_type": "stream",
     "text": [
      "\n",
      "\n",
      "\n",
      "\n",
      "\n",
      "\n",
      "  0%|          | 0/25 [00:00<?, ?it/s]\u001b[A\u001b[A\u001b[A\u001b[A\u001b[A\u001b[A\n",
      "\n",
      "\n",
      "\n",
      "\n",
      "\n",
      "  4%|▍         | 1/25 [00:23<09:20, 23.36s/it]\u001b[A\u001b[A\u001b[A\u001b[A\u001b[A\u001b[A\n",
      "\n",
      "\n",
      "\n",
      "\n",
      "\n",
      "  8%|▊         | 2/25 [00:45<08:48, 22.99s/it]\u001b[A\u001b[A\u001b[A\u001b[A\u001b[A\u001b[A\n",
      "\n",
      "\n",
      "\n",
      "\n",
      "\n",
      " 12%|█▏        | 3/25 [01:08<08:22, 22.86s/it]\u001b[A\u001b[A\u001b[A\u001b[A\u001b[A\u001b[A\n",
      "\n",
      "\n",
      "\n",
      "\n",
      "\n",
      " 16%|█▌        | 4/25 [01:30<07:56, 22.67s/it]\u001b[A\u001b[A\u001b[A\u001b[A\u001b[A\u001b[A\n",
      "\n",
      "\n",
      "\n",
      "\n",
      "\n",
      " 20%|██        | 5/25 [01:51<07:23, 22.19s/it]\u001b[A\u001b[A\u001b[A\u001b[A\u001b[A\u001b[A\n",
      "\n",
      "\n",
      "\n",
      "\n",
      "\n",
      " 24%|██▍       | 6/25 [02:09<06:41, 21.11s/it]\u001b[A\u001b[A\u001b[A\u001b[A\u001b[A\u001b[A\n",
      "\n",
      "\n",
      "\n",
      "\n",
      "\n",
      " 28%|██▊       | 7/25 [02:28<06:06, 20.34s/it]\u001b[A\u001b[A\u001b[A\u001b[A\u001b[A\u001b[A\n",
      "\n",
      "\n",
      "\n",
      "\n",
      "\n",
      " 32%|███▏      | 8/25 [02:46<05:36, 19.78s/it]\u001b[A\u001b[A\u001b[A\u001b[A\u001b[A\u001b[A\n",
      "\n",
      "\n",
      "\n",
      "\n",
      "\n",
      " 36%|███▌      | 9/25 [03:05<05:10, 19.42s/it]\u001b[A\u001b[A\u001b[A\u001b[A\u001b[A\u001b[A\n",
      "\n",
      "\n",
      "\n",
      "\n",
      "\n",
      " 40%|████      | 10/25 [03:23<04:46, 19.08s/it]\u001b[A\u001b[A\u001b[A\u001b[A\u001b[A\u001b[A\n",
      "\n",
      "\n",
      "\n",
      "\n",
      "\n",
      " 44%|████▍     | 11/25 [03:42<04:23, 18.82s/it]\u001b[A\u001b[A\u001b[A\u001b[A\u001b[A\u001b[A\n",
      "\n",
      "\n",
      "\n",
      "\n",
      "\n",
      " 48%|████▊     | 12/25 [04:00<04:02, 18.67s/it]\u001b[A\u001b[A\u001b[A\u001b[A\u001b[A\u001b[A\n",
      "\n",
      "\n",
      "\n",
      "\n",
      "\n",
      " 52%|█████▏    | 13/25 [04:18<03:42, 18.55s/it]\u001b[A\u001b[A\u001b[A\u001b[A\u001b[A\u001b[A\n",
      "\n",
      "\n",
      "\n",
      "\n",
      "\n",
      " 56%|█████▌    | 14/25 [04:36<03:23, 18.46s/it]\u001b[A\u001b[A\u001b[A\u001b[A\u001b[A\u001b[A\n",
      "\n",
      "\n",
      "\n",
      "\n",
      "\n",
      " 60%|██████    | 15/25 [04:55<03:04, 18.42s/it]\u001b[A\u001b[A\u001b[A\u001b[A\u001b[A\u001b[A\n",
      "\n",
      "\n",
      "\n",
      "\n",
      "\n",
      " 64%|██████▍   | 16/25 [05:13<02:45, 18.41s/it]\u001b[A\u001b[A\u001b[A\u001b[A\u001b[A\u001b[A\n",
      "\n",
      "\n",
      "\n",
      "\n",
      "\n",
      " 68%|██████▊   | 17/25 [05:31<02:27, 18.38s/it]\u001b[A\u001b[A\u001b[A\u001b[A\u001b[A\u001b[A\n",
      "\n",
      "\n",
      "\n",
      "\n",
      "\n",
      " 72%|███████▏  | 18/25 [05:50<02:08, 18.41s/it]\u001b[A\u001b[A\u001b[A\u001b[A\u001b[A\u001b[A\n",
      "\n",
      "\n",
      "\n",
      "\n",
      "\n",
      " 76%|███████▌  | 19/25 [06:10<01:53, 18.96s/it]\u001b[A\u001b[A\u001b[A\u001b[A\u001b[A\u001b[A\n",
      "\n",
      "\n",
      "\n",
      "\n",
      "\n",
      " 80%|████████  | 20/25 [06:29<01:34, 18.88s/it]\u001b[A\u001b[A\u001b[A\u001b[A\u001b[A\u001b[A\n",
      "\n",
      "\n",
      "\n",
      "\n",
      "\n",
      " 84%|████████▍ | 21/25 [06:47<01:15, 18.78s/it]\u001b[A\u001b[A\u001b[A\u001b[A\u001b[A\u001b[A\n",
      "\n",
      "\n",
      "\n",
      "\n",
      "\n",
      " 88%|████████▊ | 22/25 [07:06<00:56, 18.70s/it]\u001b[A\u001b[A\u001b[A\u001b[A\u001b[A\u001b[A\n",
      "\n",
      "\n",
      "\n",
      "\n",
      "\n",
      " 92%|█████████▏| 23/25 [07:28<00:39, 19.68s/it]\u001b[A\u001b[A\u001b[A\u001b[A\u001b[A\u001b[A\n",
      "\n",
      "\n",
      "\n",
      "\n",
      "\n",
      " 96%|█████████▌| 24/25 [07:49<00:20, 20.17s/it]\u001b[A\u001b[A\u001b[A\u001b[A\u001b[A\u001b[A\n",
      "\n",
      "\n",
      "\n",
      "\n",
      "\n",
      "100%|██████████| 25/25 [08:11<00:00, 19.67s/it]\u001b[A\u001b[A\u001b[A\u001b[A\u001b[A\u001b[A\n"
     ]
    }
   ],
   "source": [
    "for i in tqdm(range(n_epoch)):\n",
    "    for x_batch, y_batch in get_batches((X_train, y_train), batch_size):\n",
    "        \n",
    "        #RELU NET:\n",
    "        t0 = time()\n",
    "        \n",
    "        net_relu.zeroGradParameters()\n",
    "        \n",
    "        predictions = net_relu.forward(x_batch)\n",
    "        loss = criterion.forward(predictions, y_batch)\n",
    "        \n",
    "        dp = criterion.backward(predictions, y_batch)\n",
    "        net_relu.backward(x_batch, dp)\n",
    "        \n",
    "        sgd_momentum(net_relu.getParameters(), \n",
    "                     net_relu.getGradParameters(), \n",
    "                     optimizer_config,\n",
    "                     optimizer_state_relu) \n",
    "        \n",
    "        t1 = time()\n",
    "        time_relu += t1 - t0\n",
    "        \n",
    "        \n",
    "        #LEAKY RELU NET:\n",
    "        t0 = time()\n",
    "        \n",
    "        net_leaky_relu.zeroGradParameters()\n",
    "        \n",
    "        predictions = net_leaky_relu.forward(x_batch)\n",
    "        loss = criterion.forward(predictions, y_batch)\n",
    "        \n",
    "        dp = criterion.backward(predictions, y_batch)\n",
    "        net_leaky_relu.backward(x_batch, dp)\n",
    "        \n",
    "        sgd_momentum(net_leaky_relu.getParameters(), \n",
    "                     net_leaky_relu.getGradParameters(), \n",
    "                     optimizer_config,\n",
    "                     optimizer_state_leaky_relu) \n",
    "        \n",
    "        t1 = time()\n",
    "        time_leaky_relu += t1 - t0\n",
    "        \n",
    "        \n",
    "        #ELU NET:\n",
    "        t0 = time()\n",
    "        \n",
    "        net_elu.zeroGradParameters()\n",
    "        \n",
    "        predictions = net_elu.forward(x_batch)\n",
    "        loss = criterion.forward(predictions, y_batch)\n",
    "        \n",
    "        dp = criterion.backward(predictions, y_batch)\n",
    "        net_elu.backward(x_batch, dp)\n",
    "        \n",
    "        sgd_momentum(net_elu.getParameters(), \n",
    "                     net_elu.getGradParameters(), \n",
    "                     optimizer_config,\n",
    "                     optimizer_state_elu) \n",
    "        \n",
    "        t1 = time()\n",
    "        time_elu += t1 - t0\n",
    "        \n",
    "        \n",
    "        #SOFTPLUS NET:\n",
    "        t0 = time()\n",
    "        \n",
    "        net_softplus.zeroGradParameters()\n",
    "        \n",
    "        predictions = net_softplus.forward(x_batch)\n",
    "        loss = criterion.forward(predictions, y_batch)\n",
    "        \n",
    "        dp = criterion.backward(predictions, y_batch)\n",
    "        net_softplus.backward(x_batch, dp)\n",
    "        \n",
    "        sgd_momentum(net_softplus.getParameters(), \n",
    "                     net_softplus.getGradParameters(), \n",
    "                     optimizer_config,\n",
    "                     optimizer_state_softplus)\n",
    "        \n",
    "        t1 = time()\n",
    "        time_softplus += t1 - t0\n",
    "        \n",
    "        \n",
    "        \n",
    "    #relu loss    \n",
    "    y_pred_train = net_relu.forward(X_train)\n",
    "    loss = criterion.forward(y_train, y_pred_train)\n",
    "    train_loss_relu.append(loss)\n",
    "    \n",
    "    y_pred_val = net_relu.forward(X_val)\n",
    "    loss = criterion.forward(y_val, y_pred_val)\n",
    "    val_loss_relu.append(loss)\n",
    "    \n",
    "    #leaky relu loss    \n",
    "    y_pred_train = net_leaky_relu.forward(X_train)\n",
    "    loss = criterion.forward(y_train, y_pred_train)\n",
    "    train_loss_leaky_relu.append(loss)\n",
    "    \n",
    "    y_pred_val = net_leaky_relu.forward(X_val)\n",
    "    loss = criterion.forward(y_val, y_pred_val)\n",
    "    val_loss_leaky_relu.append(loss)\n",
    "    \n",
    "    #elu loss    \n",
    "    y_pred_train = net_elu.forward(X_train)\n",
    "    loss = criterion.forward(y_train, y_pred_train)\n",
    "    train_loss_elu.append(loss)\n",
    "    \n",
    "    y_pred_val = net_elu.forward(X_val)\n",
    "    loss = criterion.forward(y_val, y_pred_val)\n",
    "    val_loss_elu.append(loss)\n",
    "    \n",
    "    #softplus loss    \n",
    "    y_pred_train = net_softplus.forward(X_train)\n",
    "    loss = criterion.forward(y_train, y_pred_train)\n",
    "    train_loss_softplus.append(loss)\n",
    "    \n",
    "    y_pred_val = net_softplus.forward(X_val)\n",
    "    loss = criterion.forward(y_val, y_pred_val)\n",
    "    val_loss_softplus.append(loss)"
   ]
  },
  {
   "cell_type": "code",
   "execution_count": 163,
   "metadata": {},
   "outputs": [
    {
     "data": {
      "image/png": "[encoded data removed]",
      "text/plain": [
       "<Figure size 1152x648 with 1 Axes>"
      ]
     },
     "metadata": {
      "needs_background": "light"
     },
     "output_type": "display_data"
    },
    {
     "data": {
      "image/png": "[encoded data removed]",
      "text/plain": [
       "<Figure size 1152x648 with 1 Axes>"
      ]
     },
     "metadata": {
      "needs_background": "light"
     },
     "output_type": "display_data"
    },
    {
     "name": "stdout",
     "output_type": "stream",
     "text": [
      "RELU computation time : 112.04597330093384\n",
      "LEAKY RELU computation time : 111.94649338722229\n",
      "ELU computation time : 114.44160747528076\n",
      "SOFTPLUS computation time : 114.09653544425964\n"
     ]
    }
   ],
   "source": [
    "# Visualize\n",
    "display.clear_output(wait=True)\n",
    "plt.figure(figsize=(16, 9))\n",
    "plt.yscale('log')\n",
    "    \n",
    "plt.title(\"Training loss\")\n",
    "plt.xlabel(\"#epoches\")\n",
    "plt.ylabel(\"loss\")\n",
    "plt.plot(train_loss_relu, 'r', label = 'RELU')\n",
    "plt.plot(train_loss_leaky_relu, 'g', label = 'LEAKY RELU')\n",
    "plt.plot(train_loss_elu, 'b', label = 'ELU')\n",
    "plt.plot(train_loss_softplus, 'y', label = 'SOFTTPLUS')\n",
    "plt.legend()\n",
    "plt.show()\n",
    "    \n",
    "plt.figure(figsize=(16, 9))\n",
    "plt.yscale('log')\n",
    "    \n",
    "plt.title(\"Validation loss\")\n",
    "plt.xlabel(\"#epoches\")\n",
    "plt.ylabel(\"loss\")\n",
    "plt.plot(val_loss_relu, 'r', label = 'RELU')\n",
    "plt.plot(val_loss_leaky_relu, 'g', label = 'LEAKY RELU')\n",
    "plt.plot(val_loss_elu, 'b', label = 'ELU')\n",
    "plt.plot(val_loss_softplus, 'y', label = 'SOFTTPLUS')\n",
    "plt.legend()\n",
    "plt.show()\n",
    "    \n",
    "print('RELU computation time : {}'.format(time_relu))  \n",
    "print('LEAKY RELU computation time : {}'.format(time_leaky_relu))\n",
    "print('ELU computation time : {}'.format(time_elu))\n",
    "print('SOFTPLUS computation time : {}'.format(time_softplus))"
   ]
  },
  {
   "cell_type": "code",
   "execution_count": 173,
   "metadata": {},
   "outputs": [
    {
     "name": "stdout",
     "output_type": "stream",
     "text": [
      "RELU Test accuracy: 0.9752\n",
      "LEAKY RELU Test accuracy: 0.9749\n",
      "ELU Test accuracy: 0.9719\n",
      "SOFTPLUS Test accuracy: 0.9698\n"
     ]
    }
   ],
   "source": [
    "y_pred_relu = [np.argmax(i) for i in net_relu.forward(X_test)]\n",
    "y_pred_leaky_relu = [np.argmax(i) for i in net_leaky_relu.forward(X_test)]\n",
    "y_pred_elu = [np.argmax(i) for i in net_elu.forward(X_test)]\n",
    "y_pred_softplus = [np.argmax(i) for i in net_softplus.forward(X_test)]\n",
    "\n",
    "print(\"RELU Test accuracy:\",accuracy_score(y_test_class,y_pred_relu))\n",
    "print(\"LEAKY RELU Test accuracy:\",accuracy_score(y_test_class,y_pred_leaky_relu))\n",
    "print(\"ELU Test accuracy:\",accuracy_score(y_test_class,y_pred_elu))\n",
    "print(\"SOFTPLUS Test accuracy:\",accuracy_score(y_test_class,y_pred_softplus))"
   ]
  },
  {
   "cell_type": "markdown",
   "metadata": {},
   "source": [
    "**Comment**\n",
    "\n",
    "We can see that both **ReLU** and **Leaky ReLU** perform slightly better than **ELU** and especially than **Softplus**.\n",
    "\n",
    "Computation time is less for **ReLU** and **Leaky ReLU** as well, but the difference in computation time for such a simple model is less then **2%**, so we can say that computationally all activation functions performed pretty the same."
   ]
  },
  {
   "cell_type": "markdown",
   "metadata": {
    "colab_type": "text",
    "id": "EasuOpsdNLRj"
   },
   "source": [
    "#### 2.**Try** inserting `BatchNormalization` (followed by `ChannelwiseScaling`) between `Linear` module and activation functions."
   ]
  },
  {
   "cell_type": "code",
   "execution_count": 175,
   "metadata": {
    "colab": {},
    "colab_type": "code",
    "id": "NNVcXb66GDvU"
   },
   "outputs": [],
   "source": [
    "# Optimizer params\n",
    "optimizer_config = {'learning_rate' : 1e-1, 'momentum': 0.9}\n",
    "optimizer_state_relu_batchnorm = {}\n",
    "optimizer_state_leaky_relu_batchnorm = {}\n",
    "optimizer_state_elu_batchnorm = {}\n",
    "optimizer_state_softplus_batchnorm = {}\n",
    "\n",
    "# Train params\n",
    "n_epoch = 25\n",
    "batch_size = 1000\n",
    "\n",
    "# Nets\n",
    "net_relu_batchnorm = Sequential()\n",
    "net_relu_batchnorm.add(Linear(784, 100))\n",
    "net_relu_batchnorm.add(BatchNormalization())\n",
    "net_relu_batchnorm.add(ChannelwiseScaling(100))\n",
    "net_relu_batchnorm.add(ReLU())\n",
    "net_relu_batchnorm.add(Linear(100, 10))\n",
    "net_relu_batchnorm.add(LogSoftMax())\n",
    "\n",
    "net_leaky_relu_batchnorm = Sequential()\n",
    "net_leaky_relu_batchnorm.add(Linear(784, 100))\n",
    "net_leaky_relu_batchnorm.add(BatchNormalization())\n",
    "net_leaky_relu_batchnorm.add(ChannelwiseScaling(100))\n",
    "net_leaky_relu_batchnorm.add(LeakyReLU())\n",
    "net_leaky_relu_batchnorm.add(Linear(100, 10))\n",
    "net_leaky_relu_batchnorm.add(LogSoftMax())\n",
    "\n",
    "net_elu_batchnorm = Sequential()\n",
    "net_elu_batchnorm.add(Linear(784, 100))\n",
    "net_elu_batchnorm.add(BatchNormalization())\n",
    "net_elu_batchnorm.add(ChannelwiseScaling(100))\n",
    "net_elu_batchnorm.add(ELU())\n",
    "net_elu_batchnorm.add(Linear(100, 10))\n",
    "net_elu_batchnorm.add(LogSoftMax())\n",
    "\n",
    "net_softplus_batchnorm = Sequential()\n",
    "net_softplus_batchnorm.add(Linear(784, 100))\n",
    "net_softplus_batchnorm.add(BatchNormalization())\n",
    "net_softplus_batchnorm.add(ChannelwiseScaling(100))\n",
    "net_softplus_batchnorm.add(SoftPlus())\n",
    "net_softplus_batchnorm.add(Linear(100, 10))\n",
    "net_softplus_batchnorm.add(LogSoftMax())\n",
    "\n",
    "# Loss function\n",
    "criterion = ClassNLLCriterion()\n",
    "\n",
    "\n",
    "# containers for comparison\n",
    "train_loss_relu_batchnorm = []\n",
    "train_loss_leaky_relu_batchnorm = []\n",
    "train_loss_elu_batchnorm = []\n",
    "train_loss_softplus_batchnorm = []\n",
    "\n",
    "val_loss_relu_batchnorm = []\n",
    "val_loss_leaky_relu_batchnorm = []\n",
    "val_loss_elu_batchnorm = []\n",
    "val_loss_softplus_batchnorm = []\n",
    "\n",
    "time_relu_batchnorm = 0\n",
    "time_leaky_relu_batchnorm = 0\n",
    "time_elu_batchnorm = 0\n",
    "time_softplus_batchnorm = 0"
   ]
  },
  {
   "cell_type": "code",
   "execution_count": 176,
   "metadata": {
    "colab": {},
    "colab_type": "code",
    "id": "xYs-eRJCNOIb"
   },
   "outputs": [
    {
     "name": "stderr",
     "output_type": "stream",
     "text": [
      "\n",
      "\n",
      "\n",
      "\n",
      "\n",
      "\n",
      "  0%|          | 0/25 [00:00<?, ?it/s]\u001b[A\u001b[A\u001b[A\u001b[A\u001b[A\u001b[A\n",
      "\n",
      "\n",
      "\n",
      "\n",
      "\n",
      "  4%|▍         | 1/25 [00:23<09:35, 23.98s/it]\u001b[A\u001b[A\u001b[A\u001b[A\u001b[A\u001b[A\n",
      "\n",
      "\n",
      "\n",
      "\n",
      "\n",
      "  8%|▊         | 2/25 [00:44<08:50, 23.05s/it]\u001b[A\u001b[A\u001b[A\u001b[A\u001b[A\u001b[A\n",
      "\n",
      "\n",
      "\n",
      "\n",
      "\n",
      " 12%|█▏        | 3/25 [01:08<08:29, 23.15s/it]\u001b[A\u001b[A\u001b[A\u001b[A\u001b[A\u001b[A\n",
      "\n",
      "\n",
      "\n",
      "\n",
      "\n",
      " 16%|█▌        | 4/25 [01:29<07:56, 22.68s/it]\u001b[A\u001b[A\u001b[A\u001b[A\u001b[A\u001b[A\n",
      "\n",
      "\n",
      "\n",
      "\n",
      "\n",
      " 20%|██        | 5/25 [01:51<07:30, 22.51s/it]\u001b[A\u001b[A\u001b[A\u001b[A\u001b[A\u001b[A\n",
      "\n",
      "\n",
      "\n",
      "\n",
      "\n",
      " 24%|██▍       | 6/25 [02:15<07:11, 22.72s/it]\u001b[A\u001b[A\u001b[A\u001b[A\u001b[A\u001b[A\n",
      "\n",
      "\n",
      "\n",
      "\n",
      "\n",
      " 28%|██▊       | 7/25 [02:39<06:59, 23.28s/it]\u001b[A\u001b[A\u001b[A\u001b[A\u001b[A\u001b[A\n",
      "\n",
      "\n",
      "\n",
      "\n",
      "\n",
      " 32%|███▏      | 8/25 [03:04<06:44, 23.78s/it]\u001b[A\u001b[A\u001b[A\u001b[A\u001b[A\u001b[A\n",
      "\n",
      "\n",
      "\n",
      "\n",
      "\n",
      " 36%|███▌      | 9/25 [03:26<06:10, 23.14s/it]\u001b[A\u001b[A\u001b[A\u001b[A\u001b[A\u001b[A\n",
      "\n",
      "\n",
      "\n",
      "\n",
      "\n",
      " 40%|████      | 10/25 [03:48<05:41, 22.76s/it]\u001b[A\u001b[A\u001b[A\u001b[A\u001b[A\u001b[A\n",
      "\n",
      "\n",
      "\n",
      "\n",
      "\n",
      " 44%|████▍     | 11/25 [04:09<05:11, 22.24s/it]\u001b[A\u001b[A\u001b[A\u001b[A\u001b[A\u001b[A\n",
      "\n",
      "\n",
      "\n",
      "\n",
      "\n",
      " 48%|████▊     | 12/25 [04:28<04:38, 21.46s/it]\u001b[A\u001b[A\u001b[A\u001b[A\u001b[A\u001b[A\n",
      "\n",
      "\n",
      "\n",
      "\n",
      "\n",
      " 52%|█████▏    | 13/25 [04:48<04:09, 20.82s/it]\u001b[A\u001b[A\u001b[A\u001b[A\u001b[A\u001b[A\n",
      "\n",
      "\n",
      "\n",
      "\n",
      "\n",
      " 56%|█████▌    | 14/25 [05:07<03:43, 20.29s/it]\u001b[A\u001b[A\u001b[A\u001b[A\u001b[A\u001b[A\n",
      "\n",
      "\n",
      "\n",
      "\n",
      "\n",
      " 60%|██████    | 15/25 [05:26<03:20, 20.00s/it]\u001b[A\u001b[A\u001b[A\u001b[A\u001b[A\u001b[A\n",
      "\n",
      "\n",
      "\n",
      "\n",
      "\n",
      " 64%|██████▍   | 16/25 [05:46<03:00, 20.01s/it]\u001b[A\u001b[A\u001b[A\u001b[A\u001b[A\u001b[A\n",
      "\n",
      "\n",
      "\n",
      "\n",
      "\n",
      " 68%|██████▊   | 17/25 [06:05<02:38, 19.81s/it]\u001b[A\u001b[A\u001b[A\u001b[A\u001b[A\u001b[A\n",
      "\n",
      "\n",
      "\n",
      "\n",
      "\n",
      " 72%|███████▏  | 18/25 [06:25<02:18, 19.78s/it]\u001b[A\u001b[A\u001b[A\u001b[A\u001b[A\u001b[A\n",
      "\n",
      "\n",
      "\n",
      "\n",
      "\n",
      " 76%|███████▌  | 19/25 [06:45<01:58, 19.75s/it]\u001b[A\u001b[A\u001b[A\u001b[A\u001b[A\u001b[A\n",
      "\n",
      "\n",
      "\n",
      "\n",
      "\n",
      " 80%|████████  | 20/25 [07:04<01:38, 19.70s/it]\u001b[A\u001b[A\u001b[A\u001b[A\u001b[A\u001b[A\n",
      "\n",
      "\n",
      "\n",
      "\n",
      "\n",
      " 84%|████████▍ | 21/25 [07:25<01:20, 20.02s/it]\u001b[A\u001b[A\u001b[A\u001b[A\u001b[A\u001b[A\n",
      "\n",
      "\n",
      "\n",
      "\n",
      "\n",
      " 88%|████████▊ | 22/25 [07:46<01:00, 20.10s/it]\u001b[A\u001b[A\u001b[A\u001b[A\u001b[A\u001b[A\n",
      "\n",
      "\n",
      "\n",
      "\n",
      "\n",
      " 92%|█████████▏| 23/25 [08:06<00:40, 20.30s/it]\u001b[A\u001b[A\u001b[A\u001b[A\u001b[A\u001b[A\n",
      "\n",
      "\n",
      "\n",
      "\n",
      "\n",
      " 96%|█████████▌| 24/25 [08:28<00:20, 20.65s/it]\u001b[A\u001b[A\u001b[A\u001b[A\u001b[A\u001b[A\n",
      "\n",
      "\n",
      "\n",
      "\n",
      "\n",
      "100%|██████████| 25/25 [08:48<00:00, 21.12s/it]\u001b[A\u001b[A\u001b[A\u001b[A\u001b[A\u001b[A\n"
     ]
    }
   ],
   "source": [
    "for i in tqdm(range(n_epoch)):\n",
    "    for x_batch, y_batch in get_batches((X_train, y_train), batch_size):\n",
    "        \n",
    "        #RELU NET:\n",
    "        t0 = time()\n",
    "        \n",
    "        net_relu_batchnorm.zeroGradParameters()\n",
    "        \n",
    "        predictions = net_relu_batchnorm.forward(x_batch)\n",
    "        loss = criterion.forward(predictions, y_batch)\n",
    "        \n",
    "        dp = criterion.backward(predictions, y_batch)\n",
    "        net_relu_batchnorm.backward(x_batch, dp)\n",
    "        \n",
    "        sgd_momentum(net_relu_batchnorm.getParameters(), \n",
    "                     net_relu_batchnorm.getGradParameters(), \n",
    "                     optimizer_config,\n",
    "                     optimizer_state_relu_batchnorm) \n",
    "        \n",
    "        t1 = time()\n",
    "        time_relu_batchnorm += t1 - t0\n",
    "        \n",
    "        \n",
    "        #LEAKY RELU NET:\n",
    "        t0 = time()\n",
    "        \n",
    "        net_leaky_relu_batchnorm.zeroGradParameters()\n",
    "        \n",
    "        predictions = net_leaky_relu_batchnorm.forward(x_batch)\n",
    "        loss = criterion.forward(predictions, y_batch)\n",
    "        \n",
    "        dp = criterion.backward(predictions, y_batch)\n",
    "        net_leaky_relu_batchnorm.backward(x_batch, dp)\n",
    "        \n",
    "        sgd_momentum(net_leaky_relu_batchnorm.getParameters(), \n",
    "                     net_leaky_relu_batchnorm.getGradParameters(), \n",
    "                     optimizer_config,\n",
    "                     optimizer_state_leaky_relu_batchnorm) \n",
    "        \n",
    "        t1 = time()\n",
    "        time_leaky_relu_batchnorm += t1 - t0\n",
    "        \n",
    "        \n",
    "        #ELU NET:\n",
    "        t0 = time()\n",
    "        \n",
    "        net_elu_batchnorm.zeroGradParameters()\n",
    "        \n",
    "        predictions = net_elu_batchnorm.forward(x_batch)\n",
    "        loss = criterion.forward(predictions, y_batch)\n",
    "        \n",
    "        dp = criterion.backward(predictions, y_batch)\n",
    "        net_elu_batchnorm.backward(x_batch, dp)\n",
    "        \n",
    "        sgd_momentum(net_elu_batchnorm.getParameters(), \n",
    "                     net_elu_batchnorm.getGradParameters(), \n",
    "                     optimizer_config,\n",
    "                     optimizer_state_elu_batchnorm) \n",
    "        \n",
    "        t1 = time()\n",
    "        time_elu_batchnorm += t1 - t0\n",
    "        \n",
    "        \n",
    "        #SOFTPLUS NET:\n",
    "        t0 = time()\n",
    "        \n",
    "        net_softplus_batchnorm.zeroGradParameters()\n",
    "        \n",
    "        predictions = net_softplus_batchnorm.forward(x_batch)\n",
    "        loss = criterion.forward(predictions, y_batch)\n",
    "        \n",
    "        dp = criterion.backward(predictions, y_batch)\n",
    "        net_softplus_batchnorm.backward(x_batch, dp)\n",
    "        \n",
    "        sgd_momentum(net_softplus_batchnorm.getParameters(), \n",
    "                     net_softplus_batchnorm.getGradParameters(), \n",
    "                     optimizer_config,\n",
    "                     optimizer_state_softplus_batchnorm)\n",
    "        \n",
    "        t1 = time()\n",
    "        time_softplus_batchnorm += t1 - t0\n",
    "        \n",
    "        \n",
    "        \n",
    "    #relu loss    \n",
    "    y_pred_train = net_relu_batchnorm.forward(X_train)\n",
    "    loss = criterion.forward(y_train, y_pred_train)\n",
    "    train_loss_relu_batchnorm.append(loss)\n",
    "    \n",
    "    y_pred_val = net_relu_batchnorm.forward(X_val)\n",
    "    loss = criterion.forward(y_val, y_pred_val)\n",
    "    val_loss_relu_batchnorm.append(loss)\n",
    "    \n",
    "    #leaky relu loss    \n",
    "    y_pred_train = net_leaky_relu_batchnorm.forward(X_train)\n",
    "    loss = criterion.forward(y_train, y_pred_train)\n",
    "    train_loss_leaky_relu_batchnorm.append(loss)\n",
    "    \n",
    "    y_pred_val = net_leaky_relu_batchnorm.forward(X_val)\n",
    "    loss = criterion.forward(y_val, y_pred_val)\n",
    "    val_loss_leaky_relu_batchnorm.append(loss)\n",
    "    \n",
    "    #elu loss    \n",
    "    y_pred_train = net_elu_batchnorm.forward(X_train)\n",
    "    loss = criterion.forward(y_train, y_pred_train)\n",
    "    train_loss_elu_batchnorm.append(loss)\n",
    "    \n",
    "    y_pred_val = net_relu_batchnorm.forward(X_val)\n",
    "    loss = criterion.forward(y_val, y_pred_val)\n",
    "    val_loss_elu_batchnorm.append(loss)\n",
    "    \n",
    "    #softplus loss    \n",
    "    y_pred_train = net_softplus_batchnorm.forward(X_train)\n",
    "    loss = criterion.forward(y_train, y_pred_train)\n",
    "    train_loss_softplus_batchnorm.append(loss)\n",
    "    \n",
    "    y_pred_val = net_softplus_batchnorm.forward(X_val)\n",
    "    loss = criterion.forward(y_val, y_pred_val)\n",
    "    val_loss_softplus_batchnorm.append(loss)"
   ]
  },
  {
   "cell_type": "code",
   "execution_count": 187,
   "metadata": {
    "colab": {
     "base_uri": "https://localhost:8080/"
    },
    "colab_type": "code",
    "id": "cnuyGpD0O8fb",
    "outputId": "1e2ff2b3-c8ab-410e-c9c8-5137087840d7",
    "scrolled": false
   },
   "outputs": [
    {
     "data": {
      "image/png": "[encoded data removed]",
      "text/plain": [
       "<Figure size 576x432 with 1 Axes>"
      ]
     },
     "metadata": {
      "needs_background": "light"
     },
     "output_type": "display_data"
    },
    {
     "data": {
      "image/png": "[encoded data removed]",
      "text/plain": [
       "<Figure size 576x432 with 1 Axes>"
      ]
     },
     "metadata": {
      "needs_background": "light"
     },
     "output_type": "display_data"
    },
    {
     "data": {
      "image/png": "[encoded data removed]",
      "text/plain": [
       "<Figure size 576x432 with 1 Axes>"
      ]
     },
     "metadata": {
      "needs_background": "light"
     },
     "output_type": "display_data"
    },
    {
     "data": {
      "image/png": "[encoded data removed]",
      "text/plain": [
       "<Figure size 576x432 with 1 Axes>"
      ]
     },
     "metadata": {
      "needs_background": "light"
     },
     "output_type": "display_data"
    },
    {
     "data": {
      "image/png": "[encoded data removed]",
      "text/plain": [
       "<Figure size 576x432 with 1 Axes>"
      ]
     },
     "metadata": {
      "needs_background": "light"
     },
     "output_type": "display_data"
    },
    {
     "data": {
      "image/png": "[encoded data removed]",
      "text/plain": [
       "<Figure size 576x432 with 1 Axes>"
      ]
     },
     "metadata": {
      "needs_background": "light"
     },
     "output_type": "display_data"
    },
    {
     "data": {
      "image/png": "[encoded data removed]",
      "text/plain": [
       "<Figure size 576x432 with 1 Axes>"
      ]
     },
     "metadata": {
      "needs_background": "light"
     },
     "output_type": "display_data"
    },
    {
     "data": {
      "image/png": "[encoded data removed]",
      "text/plain": [
       "<Figure size 576x432 with 1 Axes>"
      ]
     },
     "metadata": {
      "needs_background": "light"
     },
     "output_type": "display_data"
    }
   ],
   "source": [
    "plt.figure(figsize=(8, 6))\n",
    "plt.title(\"Training loss\")\n",
    "plt.xlabel(\"#epoches\")\n",
    "plt.ylabel(\"loss\")\n",
    "plt.plot(train_loss_relu, 'r', label = 'RELU', ls='--')\n",
    "plt.plot(train_loss_relu_batchnorm, 'r', label = 'RELU BATCHNORM')\n",
    "plt.legend()\n",
    "plt.show()\n",
    "\n",
    "plt.figure(figsize=(8, 6))\n",
    "plt.title(\"Training loss\")\n",
    "plt.xlabel(\"#epoches\")\n",
    "plt.ylabel(\"loss\")\n",
    "plt.plot(train_loss_leaky_relu, 'g', label = 'LEAKY RELU', ls='--')\n",
    "plt.plot(train_loss_leaky_relu_batchnorm, 'g', label = 'LEAKY RELU BATCHNORM')\n",
    "plt.legend()\n",
    "plt.show()\n",
    "\n",
    "plt.figure(figsize=(8, 6))\n",
    "plt.title(\"Training loss\")\n",
    "plt.xlabel(\"#epoches\")\n",
    "plt.ylabel(\"loss\")\n",
    "plt.plot(train_loss_elu, 'b', label = 'ELU', ls='--')\n",
    "plt.plot(train_loss_elu_batchnorm, 'b', label = 'ELU BATCHNORM')\n",
    "plt.legend()\n",
    "plt.show()\n",
    "\n",
    "plt.figure(figsize=(8, 6))\n",
    "plt.title(\"Training loss\")\n",
    "plt.xlabel(\"#epoches\")\n",
    "plt.ylabel(\"loss\")\n",
    "plt.plot(train_loss_softplus, 'y', label = 'SOFTTPLUS', ls='--')\n",
    "plt.plot(train_loss_softplus_batchnorm, 'y', label = 'SOFTTPLUS BATCHNORM')\n",
    "plt.legend()\n",
    "plt.show()\n",
    "    \n",
    "plt.figure(figsize=(8, 6))\n",
    "    \n",
    "plt.title(\"Validation loss\")\n",
    "plt.xlabel(\"#epoches\")\n",
    "plt.ylabel(\"loss\")\n",
    "plt.plot(val_loss_relu, 'r', label = 'RELU', ls='--')\n",
    "plt.plot(val_loss_relu_batchnorm, 'r', label = 'RELU BATCHNORM')\n",
    "plt.legend()\n",
    "plt.show()\n",
    "\n",
    "plt.figure(figsize=(8, 6))\n",
    "plt.title(\"Validation loss\")\n",
    "plt.xlabel(\"#epoches\")\n",
    "plt.ylabel(\"loss\")\n",
    "plt.plot(val_loss_leaky_relu, 'g', label = 'LEAKY RELU',ls='--')\n",
    "plt.plot(val_loss_leaky_relu_batchnorm, 'g', label = 'LEAKY RELU BATCHNORM')\n",
    "plt.legend()\n",
    "plt.show()\n",
    "\n",
    "plt.figure(figsize=(8, 6))\n",
    "plt.title(\"Validation loss\")\n",
    "plt.xlabel(\"#epoches\")\n",
    "plt.ylabel(\"loss\")\n",
    "plt.plot(val_loss_elu, 'b', label = 'ELU',ls='--')\n",
    "plt.plot(val_loss_elu_batchnorm, 'b', label = 'ELU BATCHNORM')\n",
    "plt.legend()\n",
    "plt.show()\n",
    "\n",
    "plt.figure(figsize=(8, 6))\n",
    "plt.title(\"Validation loss\")\n",
    "plt.xlabel(\"#epoches\")\n",
    "plt.ylabel(\"loss\")\n",
    "plt.plot(val_loss_softplus, 'y', label = 'SOFTTPLUS',ls='--')\n",
    "plt.plot(val_loss_softplus_batchnorm, 'y', label = 'SOFTTPLUS BATCHNORM')\n",
    "plt.legend()\n",
    "plt.show()"
   ]
  },
  {
   "cell_type": "code",
   "execution_count": 181,
   "metadata": {},
   "outputs": [
    {
     "name": "stdout",
     "output_type": "stream",
     "text": [
      "RELU Test accuracy: 0.9735\n",
      "LEAKY RELU Test accuracy: 0.971\n",
      "ELU Test accuracy: 0.9731\n",
      "SOFTPLUS Test accuracy: 0.972\n"
     ]
    }
   ],
   "source": [
    "y_pred_relu_batchnorm = [np.argmax(i) for i in net_relu_batchnorm.forward(X_test)]\n",
    "y_pred_leaky_relu_batchnorm = [np.argmax(i) for i in net_leaky_relu_batchnorm.forward(X_test)]\n",
    "y_pred_elu_batchnorm = [np.argmax(i) for i in net_elu_batchnorm.forward(X_test)]\n",
    "y_pred_softplus_batchnorm = [np.argmax(i) for i in net_softplus_batchnorm.forward(X_test)]\n",
    "\n",
    "print(\"RELU Test accuracy:\",accuracy_score(y_test_class,y_pred_relu_batchnorm))\n",
    "print(\"LEAKY RELU Test accuracy:\",accuracy_score(y_test_class,y_pred_leaky_relu_batchnorm))\n",
    "print(\"ELU Test accuracy:\",accuracy_score(y_test_class,y_pred_elu_batchnorm))\n",
    "print(\"SOFTPLUS Test accuracy:\",accuracy_score(y_test_class,y_pred_softplus_batchnorm))"
   ]
  },
  {
   "cell_type": "markdown",
   "metadata": {},
   "source": [
    "**Comment**\n",
    "\n",
    "We can see that **BatchNormalization** helps to converge much quicker. It happens because by using BatchNorm layer we tackle the problem of **internal covariate shift** (problem, when the destributions of inputs shift layer by layer in network). But we can see than eventually Nets without BatchNorm reach the same or even lower loss on evaluation."
   ]
  },
  {
   "cell_type": "markdown",
   "metadata": {
    "colab_type": "text",
    "id": "1gawcGyqTQi_"
   },
   "source": [
    "### 3. Plot the losses for two networks: one trained by momentum_sgd, another one trained by Adam. Which one performs better?\n",
    "\n",
    "Lets test the same Net with ReLU with different optimizers."
   ]
  },
  {
   "cell_type": "code",
   "execution_count": 185,
   "metadata": {
    "colab": {},
    "colab_type": "code",
    "id": "0k-pI3jYTPMF"
   },
   "outputs": [],
   "source": [
    "# Optimizer params\n",
    "optimizer_config_sgd = {'learning_rate' : 1e-3, 'momentum': 0.9}\n",
    "optimizer_config_adam = {'learning_rate': 1e-3, 'beta1': 0.9, 'beta2': 0.9, 'epsilon': 1e-9}\n",
    "\n",
    "optimizer_state_relu_sgd = {}\n",
    "optimizer_state_relu_adam = {}\n",
    "\n",
    "\n",
    "# Train params\n",
    "n_epoch = 35\n",
    "batch_size = 1000\n",
    "\n",
    "# Nets\n",
    "net_relu_sgd = Sequential()\n",
    "net_relu_sgd.add(Linear(784, 100))\n",
    "net_relu_sgd.add(BatchNormalization())\n",
    "net_relu_sgd.add(ChannelwiseScaling(100))\n",
    "net_relu_sgd.add(ReLU())\n",
    "net_relu_sgd.add(Linear(100, 10))\n",
    "net_relu_sgd.add(LogSoftMax())\n",
    "\n",
    "net_relu_adam = Sequential()\n",
    "net_relu_adam.add(Linear(784, 100))\n",
    "net_relu_adam.add(BatchNormalization())\n",
    "net_relu_adam.add(ChannelwiseScaling(100))\n",
    "net_relu_adam.add(ReLU())\n",
    "net_relu_adam.add(Linear(100, 10))\n",
    "net_relu_adam.add(LogSoftMax())\n",
    "\n",
    "# Loss function\n",
    "criterion = ClassNLLCriterion()\n",
    "\n",
    "# containers for comparison\n",
    "train_loss_relu_sgd = []\n",
    "train_loss_relu_adam = []\n",
    "\n",
    "val_loss_relu_sgd = []\n",
    "val_loss_relu_adam = []\n",
    "\n",
    "\n",
    "time_relu_sgd = 0\n",
    "time_relu_adam = 0"
   ]
  },
  {
   "cell_type": "code",
   "execution_count": 186,
   "metadata": {
    "scrolled": true
   },
   "outputs": [
    {
     "name": "stderr",
     "output_type": "stream",
     "text": [
      "\n",
      "\n",
      "\n",
      "\n",
      "\n",
      "\n",
      "\n",
      "  0%|          | 0/35 [00:00<?, ?it/s]\u001b[A\u001b[A\u001b[A\u001b[A\u001b[A\u001b[A\u001b[A\n",
      "\n",
      "\n",
      "\n",
      "\n",
      "\n",
      "\n",
      "  3%|▎         | 1/35 [00:12<06:54, 12.18s/it]\u001b[A\u001b[A\u001b[A\u001b[A\u001b[A\u001b[A\u001b[A\n",
      "\n",
      "\n",
      "\n",
      "\n",
      "\n",
      "\n",
      "  6%|▌         | 2/35 [00:23<06:30, 11.82s/it]\u001b[A\u001b[A\u001b[A\u001b[A\u001b[A\u001b[A\u001b[A\n",
      "\n",
      "\n",
      "\n",
      "\n",
      "\n",
      "\n",
      "  9%|▊         | 3/35 [00:35<06:22, 11.96s/it]\u001b[A\u001b[A\u001b[A\u001b[A\u001b[A\u001b[A\u001b[A\n",
      "\n",
      "\n",
      "\n",
      "\n",
      "\n",
      "\n",
      " 11%|█▏        | 4/35 [00:46<06:06, 11.82s/it]\u001b[A\u001b[A\u001b[A\u001b[A\u001b[A\u001b[A\u001b[A\n",
      "\n",
      "\n",
      "\n",
      "\n",
      "\n",
      "\n",
      " 14%|█▍        | 5/35 [00:58<05:56, 11.87s/it]\u001b[A\u001b[A\u001b[A\u001b[A\u001b[A\u001b[A\u001b[A\n",
      "\n",
      "\n",
      "\n",
      "\n",
      "\n",
      "\n",
      " 17%|█▋        | 6/35 [01:09<05:36, 11.60s/it]\u001b[A\u001b[A\u001b[A\u001b[A\u001b[A\u001b[A\u001b[A\n",
      "\n",
      "\n",
      "\n",
      "\n",
      "\n",
      "\n",
      " 20%|██        | 7/35 [01:21<05:21, 11.47s/it]\u001b[A\u001b[A\u001b[A\u001b[A\u001b[A\u001b[A\u001b[A\n",
      "\n",
      "\n",
      "\n",
      "\n",
      "\n",
      "\n",
      " 23%|██▎       | 8/35 [01:31<05:04, 11.28s/it]\u001b[A\u001b[A\u001b[A\u001b[A\u001b[A\u001b[A\u001b[A\n",
      "\n",
      "\n",
      "\n",
      "\n",
      "\n",
      "\n",
      " 26%|██▌       | 9/35 [01:42<04:46, 11.04s/it]\u001b[A\u001b[A\u001b[A\u001b[A\u001b[A\u001b[A\u001b[A\n",
      "\n",
      "\n",
      "\n",
      "\n",
      "\n",
      "\n",
      " 29%|██▊       | 10/35 [01:53<04:33, 10.94s/it]\u001b[A\u001b[A\u001b[A\u001b[A\u001b[A\u001b[A\u001b[A\n",
      "\n",
      "\n",
      "\n",
      "\n",
      "\n",
      "\n",
      " 31%|███▏      | 11/35 [02:04<04:22, 10.94s/it]\u001b[A\u001b[A\u001b[A\u001b[A\u001b[A\u001b[A\u001b[A\n",
      "\n",
      "\n",
      "\n",
      "\n",
      "\n",
      "\n",
      " 34%|███▍      | 12/35 [02:14<04:09, 10.87s/it]\u001b[A\u001b[A\u001b[A\u001b[A\u001b[A\u001b[A\u001b[A\n",
      "\n",
      "\n",
      "\n",
      "\n",
      "\n",
      "\n",
      " 37%|███▋      | 13/35 [02:25<03:59, 10.88s/it]\u001b[A\u001b[A\u001b[A\u001b[A\u001b[A\u001b[A\u001b[A\n",
      "\n",
      "\n",
      "\n",
      "\n",
      "\n",
      "\n",
      " 40%|████      | 14/35 [02:37<03:51, 11.04s/it]\u001b[A\u001b[A\u001b[A\u001b[A\u001b[A\u001b[A\u001b[A\n",
      "\n",
      "\n",
      "\n",
      "\n",
      "\n",
      "\n",
      " 43%|████▎     | 15/35 [02:51<03:59, 11.96s/it]\u001b[A\u001b[A\u001b[A\u001b[A\u001b[A\u001b[A\u001b[A\n",
      "\n",
      "\n",
      "\n",
      "\n",
      "\n",
      "\n",
      " 46%|████▌     | 16/35 [03:04<03:53, 12.28s/it]\u001b[A\u001b[A\u001b[A\u001b[A\u001b[A\u001b[A\u001b[A\n",
      "\n",
      "\n",
      "\n",
      "\n",
      "\n",
      "\n",
      " 49%|████▊     | 17/35 [03:13<03:25, 11.44s/it]\u001b[A\u001b[A\u001b[A\u001b[A\u001b[A\u001b[A\u001b[A\n",
      "\n",
      "\n",
      "\n",
      "\n",
      "\n",
      "\n",
      " 51%|█████▏    | 18/35 [03:25<03:14, 11.47s/it]\u001b[A\u001b[A\u001b[A\u001b[A\u001b[A\u001b[A\u001b[A\n",
      "\n",
      "\n",
      "\n",
      "\n",
      "\n",
      "\n",
      " 54%|█████▍    | 19/35 [03:35<02:59, 11.25s/it]\u001b[A\u001b[A\u001b[A\u001b[A\u001b[A\u001b[A\u001b[A\n",
      "\n",
      "\n",
      "\n",
      "\n",
      "\n",
      "\n",
      " 57%|█████▋    | 20/35 [03:46<02:45, 11.06s/it]\u001b[A\u001b[A\u001b[A\u001b[A\u001b[A\u001b[A\u001b[A\n",
      "\n",
      "\n",
      "\n",
      "\n",
      "\n",
      "\n",
      " 60%|██████    | 21/35 [03:56<02:32, 10.87s/it]\u001b[A\u001b[A\u001b[A\u001b[A\u001b[A\u001b[A\u001b[A\n",
      "\n",
      "\n",
      "\n",
      "\n",
      "\n",
      "\n",
      " 63%|██████▎   | 22/35 [04:08<02:22, 10.99s/it]\u001b[A\u001b[A\u001b[A\u001b[A\u001b[A\u001b[A\u001b[A\n",
      "\n",
      "\n",
      "\n",
      "\n",
      "\n",
      "\n",
      " 66%|██████▌   | 23/35 [04:20<02:15, 11.29s/it]\u001b[A\u001b[A\u001b[A\u001b[A\u001b[A\u001b[A\u001b[A\n",
      "\n",
      "\n",
      "\n",
      "\n",
      "\n",
      "\n",
      " 69%|██████▊   | 24/35 [04:31<02:03, 11.24s/it]\u001b[A\u001b[A\u001b[A\u001b[A\u001b[A\u001b[A\u001b[A\n",
      "\n",
      "\n",
      "\n",
      "\n",
      "\n",
      "\n",
      " 71%|███████▏  | 25/35 [04:41<01:49, 10.92s/it]\u001b[A\u001b[A\u001b[A\u001b[A\u001b[A\u001b[A\u001b[A\n",
      "\n",
      "\n",
      "\n",
      "\n",
      "\n",
      "\n",
      " 74%|███████▍  | 26/35 [04:51<01:34, 10.54s/it]\u001b[A\u001b[A\u001b[A\u001b[A\u001b[A\u001b[A\u001b[A\n",
      "\n",
      "\n",
      "\n",
      "\n",
      "\n",
      "\n",
      " 77%|███████▋  | 27/35 [05:00<01:22, 10.32s/it]\u001b[A\u001b[A\u001b[A\u001b[A\u001b[A\u001b[A\u001b[A\n",
      "\n",
      "\n",
      "\n",
      "\n",
      "\n",
      "\n",
      " 80%|████████  | 28/35 [05:10<01:11, 10.20s/it]\u001b[A\u001b[A\u001b[A\u001b[A\u001b[A\u001b[A\u001b[A\n",
      "\n",
      "\n",
      "\n",
      "\n",
      "\n",
      "\n",
      " 83%|████████▎ | 29/35 [05:20<01:00, 10.02s/it]\u001b[A\u001b[A\u001b[A\u001b[A\u001b[A\u001b[A\u001b[A\n",
      "\n",
      "\n",
      "\n",
      "\n",
      "\n",
      "\n",
      " 86%|████████▌ | 30/35 [05:30<00:49,  9.93s/it]\u001b[A\u001b[A\u001b[A\u001b[A\u001b[A\u001b[A\u001b[A\n",
      "\n",
      "\n",
      "\n",
      "\n",
      "\n",
      "\n",
      " 89%|████████▊ | 31/35 [05:42<00:42, 10.59s/it]\u001b[A\u001b[A\u001b[A\u001b[A\u001b[A\u001b[A\u001b[A\n",
      "\n",
      "\n",
      "\n",
      "\n",
      "\n",
      "\n",
      " 91%|█████████▏| 32/35 [05:53<00:31, 10.64s/it]\u001b[A\u001b[A\u001b[A\u001b[A\u001b[A\u001b[A\u001b[A\n",
      "\n",
      "\n",
      "\n",
      "\n",
      "\n",
      "\n",
      " 94%|█████████▍| 33/35 [06:04<00:21, 10.79s/it]\u001b[A\u001b[A\u001b[A\u001b[A\u001b[A\u001b[A\u001b[A\n",
      "\n",
      "\n",
      "\n",
      "\n",
      "\n",
      "\n",
      " 97%|█████████▋| 34/35 [06:14<00:10, 10.49s/it]\u001b[A\u001b[A\u001b[A\u001b[A\u001b[A\u001b[A\u001b[A\n",
      "\n",
      "\n",
      "\n",
      "\n",
      "\n",
      "\n",
      "100%|██████████| 35/35 [06:23<00:00, 10.96s/it]\u001b[A\u001b[A\u001b[A\u001b[A\u001b[A\u001b[A\u001b[A\n"
     ]
    }
   ],
   "source": [
    "for i in tqdm(range(n_epoch)):\n",
    "    for x_batch, y_batch in get_batches((X_train, y_train), batch_size):\n",
    "        \n",
    "        #SGD:\n",
    "        t0 = time()\n",
    "        \n",
    "        net_relu_sgd.zeroGradParameters()\n",
    "        \n",
    "        predictions = net_relu_sgd.forward(x_batch)\n",
    "        loss = criterion.forward(predictions, y_batch)\n",
    "        \n",
    "        dp = criterion.backward(predictions, y_batch)\n",
    "        net_relu_sgd.backward(x_batch, dp)\n",
    "        \n",
    "        sgd_momentum(net_relu_sgd.getParameters(), \n",
    "                     net_relu_sgd.getGradParameters(), \n",
    "                     optimizer_config_sgd,\n",
    "                     optimizer_state_relu_sgd) \n",
    "        \n",
    "        t1 = time()\n",
    "        time_relu_sgd += t1 - t0\n",
    "        \n",
    "        #ADAM:\n",
    "        t0 = time()\n",
    "        \n",
    "        net_relu_adam.zeroGradParameters()\n",
    "        \n",
    "        predictions = net_relu_adam.forward(x_batch)\n",
    "        loss = criterion.forward(predictions, y_batch)\n",
    "        \n",
    "        dp = criterion.backward(predictions, y_batch)\n",
    "        net_relu_adam.backward(x_batch, dp)\n",
    "        \n",
    "        adam_optimizer(net_relu_adam.getParameters(), \n",
    "                     net_relu_adam.getGradParameters(), \n",
    "                     optimizer_config_adam,\n",
    "                     optimizer_state_relu_adam) \n",
    "        \n",
    "        t1 = time()\n",
    "        time_relu_adam += t1 - t0\n",
    "        \n",
    "    #sgd loss    \n",
    "    y_pred_train = net_relu_sgd.forward(X_train)\n",
    "    loss = criterion.forward(y_train, y_pred_train)\n",
    "    train_loss_relu_sgd.append(loss)\n",
    "    \n",
    "    y_pred_val = net_relu_sgd.forward(X_val)\n",
    "    loss = criterion.forward(y_val, y_pred_val)\n",
    "    val_loss_relu_sgd.append(loss)\n",
    "    \n",
    "    #leaky relu loss    \n",
    "    y_pred_train = net_relu_adam.forward(X_train)\n",
    "    loss = criterion.forward(y_train, y_pred_train)\n",
    "    train_loss_relu_adam.append(loss)\n",
    "    \n",
    "    y_pred_val = net_relu_adam.forward(X_val)\n",
    "    loss = criterion.forward(y_val, y_pred_val)\n",
    "    val_loss_relu_adam.append(loss)"
   ]
  },
  {
   "cell_type": "code",
   "execution_count": 189,
   "metadata": {},
   "outputs": [
    {
     "data": {
      "image/png": "[encoded data removed]",
      "text/plain": [
       "<Figure size 1008x504 with 1 Axes>"
      ]
     },
     "metadata": {
      "needs_background": "light"
     },
     "output_type": "display_data"
    },
    {
     "data": {
      "image/png": "[encoded data removed]",
      "text/plain": [
       "<Figure size 1008x504 with 1 Axes>"
      ]
     },
     "metadata": {
      "needs_background": "light"
     },
     "output_type": "display_data"
    }
   ],
   "source": [
    "plt.figure(figsize=(14, 7))\n",
    "plt.title(\"Training loss\")\n",
    "plt.xlabel(\"#epoches\")\n",
    "plt.ylabel(\"loss\")\n",
    "plt.plot(train_loss_relu_sgd, 'r', label = 'SGD')\n",
    "plt.plot(train_loss_relu_adam, 'b', label = 'ADAM')\n",
    "plt.legend()\n",
    "plt.show()\n",
    "    \n",
    "plt.figure(figsize=(14, 7))\n",
    "plt.yscale('log')\n",
    "    \n",
    "plt.title(\"Validation loss\")\n",
    "plt.xlabel(\"#epoches\")\n",
    "plt.ylabel(\"loss\")\n",
    "plt.plot(val_loss_relu_sgd, 'r', label = 'SGD')\n",
    "plt.plot(val_loss_relu_adam, 'b', label = 'ADAM')\n",
    "plt.legend()\n",
    "plt.show()"
   ]
  },
  {
   "cell_type": "code",
   "execution_count": 190,
   "metadata": {},
   "outputs": [
    {
     "name": "stdout",
     "output_type": "stream",
     "text": [
      "Computation Time of Adam: 172.2385220527649\n",
      "Computation Time of momentumSGD: 171.09977412223816\n"
     ]
    }
   ],
   "source": [
    "print('Computation Time of Adam:',time_relu_adam)\n",
    "print('Computation Time of momentumSGD:',time_relu_sgd)"
   ]
  },
  {
   "cell_type": "code",
   "execution_count": 191,
   "metadata": {},
   "outputs": [
    {
     "name": "stdout",
     "output_type": "stream",
     "text": [
      "SGD Test accuracy: 0.8824\n",
      "ADAM Test accuracy: 0.9703\n"
     ]
    }
   ],
   "source": [
    "y_pred_relu_sgd = [np.argmax(i) for i in net_relu_sgd.forward(X_test)]\n",
    "y_pred_relu_adam = [np.argmax(i) for i in net_relu_adam.forward(X_test)]\n",
    "\n",
    "\n",
    "print(\"SGD Test accuracy:\",accuracy_score(y_test_class,y_pred_relu_sgd))\n",
    "print(\"ADAM Test accuracy:\",accuracy_score(y_test_class,y_pred_relu_adam))"
   ]
  },
  {
   "cell_type": "markdown",
   "metadata": {},
   "source": [
    "**Comment**\n",
    "\n",
    "We can see that Adam performs better than momentumSGD when we use the chosen parameters. And the model converges much faster than SGD, which is one of the most significant advantages of Adam. But it sometimes on rare circumstances can fail to converge, and in this cases, SGD may be the choice of the scientist.\n",
    "\n",
    "https://shaoanlu.wordpress.com/2017/05/29/sgd-all-which-one-is-the-best-optimizer-dogs-vs-cats-toy-experiment/"
   ]
  },
  {
   "cell_type": "markdown",
   "metadata": {},
   "source": [
    "### 4. Increase the number of parameters in the network. Try inserting the Dropout layer. Compare the validation performance and the gap between test and validation performances for the two experiments (with and without Dropout). Compare the loss plots. Which one converges slower?"
   ]
  },
  {
   "cell_type": "code",
   "execution_count": 192,
   "metadata": {},
   "outputs": [],
   "source": [
    "optimizer_config = {'learning_rate' : 1e-2, 'momentum': 0.9}\n",
    "\n",
    "optimizer_state_drop = {}\n",
    "optimizer_state_no_drop = {}\n",
    "\n",
    "\n",
    "# Train params\n",
    "n_epoch = 25\n",
    "batch_size = 1000\n",
    "\n",
    "# Nets\n",
    "net_drop = Sequential()\n",
    "net_drop.add(Linear(784, 200))\n",
    "net_drop.add(BatchNormalization())\n",
    "net_drop.add(ChannelwiseScaling(200))\n",
    "net_drop.add(ReLU())\n",
    "net_drop.add(Dropout())\n",
    "net_drop.add(Linear(200, 100))\n",
    "net_drop.add(BatchNormalization())\n",
    "net_drop.add(ChannelwiseScaling(100))\n",
    "net_drop.add(ReLU())\n",
    "net_drop.add(Dropout())\n",
    "net_drop.add(Linear(100, 50))\n",
    "net_drop.add(BatchNormalization())\n",
    "net_drop.add(ChannelwiseScaling(50))\n",
    "net_drop.add(ReLU())\n",
    "net_drop.add(Linear(50, 10))\n",
    "net_drop.add(LogSoftMax())\n",
    "\n",
    "net_no_drop = Sequential()\n",
    "net_no_drop.add(Linear(784, 200))\n",
    "net_no_drop.add(BatchNormalization())\n",
    "net_no_drop.add(ChannelwiseScaling(200))\n",
    "net_no_drop.add(ReLU())\n",
    "net_no_drop.add(Linear(200, 100))\n",
    "net_no_drop.add(BatchNormalization())\n",
    "net_no_drop.add(ChannelwiseScaling(100))\n",
    "net_no_drop.add(ReLU())\n",
    "net_no_drop.add(Linear(100, 50))\n",
    "net_no_drop.add(BatchNormalization())\n",
    "net_no_drop.add(ChannelwiseScaling(50))\n",
    "net_no_drop.add(ReLU())\n",
    "net_no_drop.add(Linear(50, 10))\n",
    "net_no_drop.add(LogSoftMax())\n",
    "\n",
    "# Loss function\n",
    "criterion = ClassNLLCriterion()\n",
    "\n",
    "# containers for comparison\n",
    "train_loss_drop = []\n",
    "train_loss_no_drop = []\n",
    "\n",
    "val_loss_drop = []\n",
    "val_loss_no_drop = []\n",
    "\n",
    "\n",
    "time_drop = 0\n",
    "time_no_drop = 0"
   ]
  },
  {
   "cell_type": "code",
   "execution_count": 194,
   "metadata": {
    "scrolled": true
   },
   "outputs": [
    {
     "name": "stderr",
     "output_type": "stream",
     "text": [
      "\n",
      "\n",
      "\n",
      "\n",
      "\n",
      "\n",
      "\n",
      "\n",
      "  0%|          | 0/25 [00:00<?, ?it/s]\u001b[A\u001b[A\u001b[A\u001b[A\u001b[A\u001b[A\u001b[A\u001b[A\n",
      "\n",
      "\n",
      "\n",
      "\n",
      "\n",
      "\n",
      "\n",
      "  4%|▍         | 1/25 [00:16<06:29, 16.24s/it]\u001b[A\u001b[A\u001b[A\u001b[A\u001b[A\u001b[A\u001b[A\u001b[A\n",
      "\n",
      "\n",
      "\n",
      "\n",
      "\n",
      "\n",
      "\n",
      "  8%|▊         | 2/25 [00:32<06:10, 16.10s/it]\u001b[A\u001b[A\u001b[A\u001b[A\u001b[A\u001b[A\u001b[A\u001b[A\n",
      "\n",
      "\n",
      "\n",
      "\n",
      "\n",
      "\n",
      "\n",
      " 12%|█▏        | 3/25 [00:49<06:02, 16.49s/it]\u001b[A\u001b[A\u001b[A\u001b[A\u001b[A\u001b[A\u001b[A\u001b[A\n",
      "\n",
      "\n",
      "\n",
      "\n",
      "\n",
      "\n",
      "\n",
      " 16%|█▌        | 4/25 [01:05<05:43, 16.38s/it]\u001b[A\u001b[A\u001b[A\u001b[A\u001b[A\u001b[A\u001b[A\u001b[A\n",
      "\n",
      "\n",
      "\n",
      "\n",
      "\n",
      "\n",
      "\n",
      " 20%|██        | 5/25 [01:21<05:24, 16.25s/it]\u001b[A\u001b[A\u001b[A\u001b[A\u001b[A\u001b[A\u001b[A\u001b[A\n",
      "\n",
      "\n",
      "\n",
      "\n",
      "\n",
      "\n",
      "\n",
      " 24%|██▍       | 6/25 [01:36<05:03, 15.98s/it]\u001b[A\u001b[A\u001b[A\u001b[A\u001b[A\u001b[A\u001b[A\u001b[A\n",
      "\n",
      "\n",
      "\n",
      "\n",
      "\n",
      "\n",
      "\n",
      " 28%|██▊       | 7/25 [01:52<04:46, 15.92s/it]\u001b[A\u001b[A\u001b[A\u001b[A\u001b[A\u001b[A\u001b[A\u001b[A\n",
      "\n",
      "\n",
      "\n",
      "\n",
      "\n",
      "\n",
      "\n",
      " 32%|███▏      | 8/25 [02:07<04:27, 15.72s/it]\u001b[A\u001b[A\u001b[A\u001b[A\u001b[A\u001b[A\u001b[A\u001b[A\n",
      "\n",
      "\n",
      "\n",
      "\n",
      "\n",
      "\n",
      "\n",
      " 36%|███▌      | 9/25 [02:22<04:08, 15.52s/it]\u001b[A\u001b[A\u001b[A\u001b[A\u001b[A\u001b[A\u001b[A\u001b[A\n",
      "\n",
      "\n",
      "\n",
      "\n",
      "\n",
      "\n",
      "\n",
      " 40%|████      | 10/25 [02:38<03:54, 15.64s/it]\u001b[A\u001b[A\u001b[A\u001b[A\u001b[A\u001b[A\u001b[A\u001b[A\n",
      "\n",
      "\n",
      "\n",
      "\n",
      "\n",
      "\n",
      "\n",
      " 44%|████▍     | 11/25 [02:56<03:46, 16.20s/it]\u001b[A\u001b[A\u001b[A\u001b[A\u001b[A\u001b[A\u001b[A\u001b[A\n",
      "\n",
      "\n",
      "\n",
      "\n",
      "\n",
      "\n",
      "\n",
      " 48%|████▊     | 12/25 [03:11<03:26, 15.85s/it]\u001b[A\u001b[A\u001b[A\u001b[A\u001b[A\u001b[A\u001b[A\u001b[A\n",
      "\n",
      "\n",
      "\n",
      "\n",
      "\n",
      "\n",
      "\n",
      " 52%|█████▏    | 13/25 [03:25<03:04, 15.38s/it]\u001b[A\u001b[A\u001b[A\u001b[A\u001b[A\u001b[A\u001b[A\u001b[A\n",
      "\n",
      "\n",
      "\n",
      "\n",
      "\n",
      "\n",
      "\n",
      " 56%|█████▌    | 14/25 [03:40<02:47, 15.20s/it]\u001b[A\u001b[A\u001b[A\u001b[A\u001b[A\u001b[A\u001b[A\u001b[A\n",
      "\n",
      "\n",
      "\n",
      "\n",
      "\n",
      "\n",
      "\n",
      " 60%|██████    | 15/25 [03:56<02:33, 15.32s/it]\u001b[A\u001b[A\u001b[A\u001b[A\u001b[A\u001b[A\u001b[A\u001b[A\n",
      "\n",
      "\n",
      "\n",
      "\n",
      "\n",
      "\n",
      "\n",
      " 64%|██████▍   | 16/25 [04:12<02:20, 15.61s/it]\u001b[A\u001b[A\u001b[A\u001b[A\u001b[A\u001b[A\u001b[A\u001b[A\n",
      "\n",
      "\n",
      "\n",
      "\n",
      "\n",
      "\n",
      "\n",
      " 68%|██████▊   | 17/25 [04:29<02:08, 16.06s/it]\u001b[A\u001b[A\u001b[A\u001b[A\u001b[A\u001b[A\u001b[A\u001b[A\n",
      "\n",
      "\n",
      "\n",
      "\n",
      "\n",
      "\n",
      "\n",
      " 72%|███████▏  | 18/25 [04:47<01:56, 16.60s/it]\u001b[A\u001b[A\u001b[A\u001b[A\u001b[A\u001b[A\u001b[A\u001b[A\n",
      "\n",
      "\n",
      "\n",
      "\n",
      "\n",
      "\n",
      "\n",
      " 76%|███████▌  | 19/25 [05:03<01:39, 16.53s/it]\u001b[A\u001b[A\u001b[A\u001b[A\u001b[A\u001b[A\u001b[A\u001b[A\n",
      "\n",
      "\n",
      "\n",
      "\n",
      "\n",
      "\n",
      "\n",
      " 80%|████████  | 20/25 [05:21<01:24, 16.89s/it]\u001b[A\u001b[A\u001b[A\u001b[A\u001b[A\u001b[A\u001b[A\u001b[A\n",
      "\n",
      "\n",
      "\n",
      "\n",
      "\n",
      "\n",
      "\n",
      " 84%|████████▍ | 21/25 [05:39<01:08, 17.17s/it]\u001b[A\u001b[A\u001b[A\u001b[A\u001b[A\u001b[A\u001b[A\u001b[A\n",
      "\n",
      "\n",
      "\n",
      "\n",
      "\n",
      "\n",
      "\n",
      " 88%|████████▊ | 22/25 [05:57<00:52, 17.40s/it]\u001b[A\u001b[A\u001b[A\u001b[A\u001b[A\u001b[A\u001b[A\u001b[A\n",
      "\n",
      "\n",
      "\n",
      "\n",
      "\n",
      "\n",
      "\n",
      " 92%|█████████▏| 23/25 [06:11<00:33, 16.54s/it]\u001b[A\u001b[A\u001b[A\u001b[A\u001b[A\u001b[A\u001b[A\u001b[A\n",
      "\n",
      "\n",
      "\n",
      "\n",
      "\n",
      "\n",
      "\n",
      " 96%|█████████▌| 24/25 [06:26<00:16, 16.04s/it]\u001b[A\u001b[A\u001b[A\u001b[A\u001b[A\u001b[A\u001b[A\u001b[A\n",
      "\n",
      "\n",
      "\n",
      "\n",
      "\n",
      "\n",
      "\n",
      "100%|██████████| 25/25 [06:42<00:00, 16.10s/it]\u001b[A\u001b[A\u001b[A\u001b[A\u001b[A\u001b[A\u001b[A\u001b[A\n"
     ]
    }
   ],
   "source": [
    "for i in tqdm(range(n_epoch)):\n",
    "    for x_batch, y_batch in get_batches((X_train, y_train), batch_size):\n",
    "        \n",
    "        #Dropout:\n",
    "        t0 = time()\n",
    "        \n",
    "        net_drop.zeroGradParameters()\n",
    "        \n",
    "        predictions = net_drop.forward(x_batch)\n",
    "        loss = criterion.forward(predictions, y_batch)\n",
    "        \n",
    "        dp = criterion.backward(predictions, y_batch)\n",
    "        net_drop.backward(x_batch, dp)\n",
    "        \n",
    "        sgd_momentum(net_drop.getParameters(), \n",
    "                     net_drop.getGradParameters(), \n",
    "                     optimizer_config,\n",
    "                     optimizer_state_drop) \n",
    "        \n",
    "        t1 = time()\n",
    "        time_drop += t1 - t0\n",
    "        \n",
    "        #No Dropout:\n",
    "        t0 = time()\n",
    "        \n",
    "        net_no_drop.zeroGradParameters()\n",
    "        \n",
    "        predictions = net_no_drop.forward(x_batch)\n",
    "        loss = criterion.forward(predictions, y_batch)\n",
    "        \n",
    "        dp = criterion.backward(predictions, y_batch)\n",
    "        net_no_drop.backward(x_batch, dp)\n",
    "        \n",
    "        sgd_momentum(net_no_drop.getParameters(), \n",
    "                     net_no_drop.getGradParameters(), \n",
    "                     optimizer_config,\n",
    "                     optimizer_state_no_drop) \n",
    "        \n",
    "        t1 = time()\n",
    "        time_no_drop += t1 - t0\n",
    "        \n",
    "    #dropout \n",
    "    y_pred_train = net_drop.forward(X_train)\n",
    "    loss = criterion.forward(y_train, y_pred_train)\n",
    "    train_loss_drop.append(loss)\n",
    "    \n",
    "    y_pred_val = net_drop.forward(X_val)\n",
    "    loss = criterion.forward(y_val, y_pred_val)\n",
    "    val_loss_drop.append(loss)\n",
    "    \n",
    "    # no dropout    \n",
    "    y_pred_train = net_no_drop.forward(X_train)\n",
    "    loss = criterion.forward(y_train, y_pred_train)\n",
    "    train_loss_no_drop.append(loss)\n",
    "    \n",
    "    y_pred_val = net_no_drop.forward(X_val)\n",
    "    loss = criterion.forward(y_val, y_pred_val)\n",
    "    val_loss_no_drop.append(loss)"
   ]
  },
  {
   "cell_type": "code",
   "execution_count": 195,
   "metadata": {},
   "outputs": [
    {
     "data": {
      "image/png": "[encoded data removed]",
      "text/plain": [
       "<Figure size 1008x504 with 1 Axes>"
      ]
     },
     "metadata": {
      "needs_background": "light"
     },
     "output_type": "display_data"
    },
    {
     "data": {
      "image/png": "[encoded data removed]",
      "text/plain": [
       "<Figure size 1008x504 with 1 Axes>"
      ]
     },
     "metadata": {
      "needs_background": "light"
     },
     "output_type": "display_data"
    }
   ],
   "source": [
    "#Visualize\n",
    "    \n",
    "plt.figure(figsize=(14, 7))\n",
    "plt.yscale('log')\n",
    "    \n",
    "plt.title(\"Training loss\")\n",
    "plt.xlabel(\"#epoches\")\n",
    "plt.ylabel(\"loss\")\n",
    "plt.plot(train_loss_drop, 'g', label = 'Dropout')\n",
    "plt.plot(train_loss_no_drop, 'b', label = 'No Dropout')\n",
    "plt.legend()\n",
    "plt.show()\n",
    "    \n",
    "plt.figure(figsize=(14, 7))\n",
    "plt.yscale('log')\n",
    "    \n",
    "plt.title(\"Validation loss\")\n",
    "plt.xlabel(\"#epoches\")\n",
    "plt.ylabel(\"loss\")\n",
    "plt.plot(val_loss_drop, 'g', label = 'Dropout')\n",
    "plt.plot(val_loss_no_drop, 'b', label = 'No Dropout')\n",
    "plt.legend()\n",
    "plt.show()"
   ]
  },
  {
   "cell_type": "code",
   "execution_count": 196,
   "metadata": {},
   "outputs": [
    {
     "name": "stdout",
     "output_type": "stream",
     "text": [
      "Net with Dropout Test accuracy: 0.9418\n",
      "Net without Dropout Test accuracy: 0.9767\n"
     ]
    }
   ],
   "source": [
    "y_pred_drop = [np.argmax(i) for i in net_drop.forward(X_test)]\n",
    "y_pred_no_drop = [np.argmax(i) for i in net_no_drop.forward(X_test)]\n",
    "\n",
    "\n",
    "print(\"Net with Dropout Test accuracy:\",accuracy_score(y_test_class, y_pred_drop))\n",
    "print(\"Net without Dropout Test accuracy:\",accuracy_score(y_test_class, y_pred_no_drop))"
   ]
  },
  {
   "cell_type": "markdown",
   "metadata": {},
   "source": [
    "**Comment**\n",
    "\n",
    "It is obvious that in this case, the Network with Dropout converges slower than without. For the MNIST the use of Dropout is not mandatory because it is well solved without Dropout, and it does not overfit too much. In other more complex tasks where the training is longer, and it is easy to overfit, the use of Dropout can be essential."
   ]
  },
  {
   "cell_type": "markdown",
   "metadata": {
    "colab_type": "text",
    "id": "nVu2kds4oWr1"
   },
   "source": [
    "# Part 4: Convolutional neural networks\n",
    "\n",
    "In the previous part you needed to train a dense, or fully-connected, neural network. This part of the homework is to prepare modules for training a basic convolutional network: `Conv2D`, `Flatten`, `MaxPool2d`. "
   ]
  },
  {
   "cell_type": "markdown",
   "metadata": {
    "colab_type": "text",
    "id": "0qVU072ToWr2"
   },
   "source": [
    "Your task is to implement a simple framework for convolutional neural networks training. While convolutional neural networks is a subject of lecture 3, we expect that there are a lot of students who are familiar with the topic.\n",
    "\n",
    "In order to successfully complete this part, you will have to:\n",
    "\n",
    "- Implement all the layers below (`Conv2d`, `MaxPool2d`; `Flatten` is already implemented for convenience). Good implementation should pass all the tests in the subsequent cells.\n",
    "- Train a CNN that has at least one `Conv2d` layer and at least one `MaxPool2d` layer and achieves at least 97% accuracy on MNIST test set.\n",
    "\n",
    "Feel free to use the code from Part 3 for debugging or as a source of code snippets. "
   ]
  },
  {
   "cell_type": "markdown",
   "metadata": {
    "colab_type": "text",
    "id": "ogldOST0oWr2"
   },
   "source": [
    "# Layers for Part 4"
   ]
  },
  {
   "cell_type": "markdown",
   "metadata": {
    "colab_type": "text",
    "id": "A1WvykkEoWr3"
   },
   "source": [
    "## 12. Conv2d *[2 pts]*\n",
    "- input:   **`batch_size x in_channels x h x w`**\n",
    "- output: **`batch_size x out_channels x h x w`**\n",
    "\n",
    "You should implement a layer which works like PyTorch `Conv2d` layer with `stride=1` and zero-padding outside of image using `scipy.signal.correlate` function.\n",
    "\n",
    "Practical notes:\n",
    "- While the layer name is \"convolution\", most of neural network frameworks (including TensorFlow and PyTorch) implement operation that is called [cross-correlation](https://en.wikipedia.org/wiki/Cross-correlation#Cross-correlation_of_deterministic_signals) in signal processing theory. So **don't use** `scipy.signal.convolve` since it implements [convolution](https://en.wikipedia.org/wiki/Convolution#Discrete_convolution) in terms of signal processing.\n",
    "- It may be convenient to use `np.pad` or `skimage.util.pad` for zero-padding.\n",
    "- It's rather ok to implement convolution over 4d array using 2 nested loops: one over batch size dimension and another one over output filters dimension\n",
    "- Having troubles with understanding how to implement the layer? \n",
    " - Check out e.g. this link on how to make forward pass and to calculate all the gradients: https://towardsdatascience.com/backpropagation-in-a-convolutional-layer-24c8d64d8509\n",
    " - May the google be with you"
   ]
  },
  {
   "cell_type": "code",
   "execution_count": 199,
   "metadata": {},
   "outputs": [],
   "source": [
    "import scipy as sp\n",
    "import scipy.signal\n",
    "import skimage\n",
    "\n",
    "class Conv2d(Module):\n",
    "    def __init__(self, in_channels, out_channels, kernel_size):\n",
    "        super(Conv2d, self).__init__()\n",
    "        assert kernel_size % 2 == 1, kernel_size\n",
    "       \n",
    "        stdv = 1./np.sqrt(in_channels)\n",
    "        self.W = np.random.uniform(-stdv, stdv, size = (out_channels, in_channels, kernel_size, kernel_size))\n",
    "        self.b = np.random.uniform(-stdv, stdv, size=(out_channels,))\n",
    "        self.in_channels = in_channels\n",
    "        self.out_channels = out_channels\n",
    "        self.kernel_size = kernel_size\n",
    "        \n",
    "        self.gradW = np.zeros_like(self.W)\n",
    "        self.gradb = np.zeros_like(self.b)\n",
    "        \n",
    "    def updateOutput(self, input):\n",
    "        pad_size = self.kernel_size // 2\n",
    "        # YOUR CODE #\n",
    "        # 1. zero-pad the input array\n",
    "        # 2. compute convolution using scipy.signal.correlate(... , mode='valid')\n",
    "        # 3. add bias value\n",
    "        \n",
    "        batch_size = input.shape[0]\n",
    "        input_pad = skimage.util.pad(input, ((0,0), (0,0), (pad_size, pad_size), (pad_size, pad_size)), 'constant')\n",
    "        \n",
    "        self.output = np.empty((batch_size, self.out_channels, input.shape[2],input.shape[3]))\n",
    "    \n",
    "        for element in range(batch_size):\n",
    "            for out_channel in range(self.out_channels):\n",
    "                self.output[element, out_channel] = scipy.signal.correlate(input_pad[element], \n",
    "                                                                           self.W[out_channel], mode='valid') + self.b[out_channel]\n",
    "        return self.output\n",
    "    \n",
    "    def updateGradInput(self, input, gradOutput):\n",
    "        pad_size = self.kernel_size // 2\n",
    "        # YOUR CODE ##############################\n",
    "        # 1. zero-pad the gradOutput\n",
    "        # 2. compute 'self.gradInput' value using scipy.signal.correlate(... , mode='valid')\n",
    "                                     \n",
    "        batch_size = input.shape[0]\n",
    "        gradOutput_pad = skimage.util.pad(gradOutput,((0,0), (0,0), (pad_size, pad_size), (pad_size, pad_size)), 'constant')\n",
    "        \n",
    "        self.gradInput = np.empty((batch_size, self.in_channels, input.shape[2],input.shape[3]))\n",
    "        \n",
    "        for element in range(batch_size):\n",
    "            for in_channel in range(self.in_channels):\n",
    "                self.gradInput[element, in_channel] = scipy.signal.correlate(gradOutput_pad[element], \n",
    "                                                                             np.rot90(self.W[:, in_channel], 2, axes=(1,2)), mode='valid')\n",
    "        \n",
    "        return self.gradInput\n",
    "    \n",
    "    def accGradParameters(self, input, gradOutput):\n",
    "        pad_size = self.kernel_size // 2\n",
    "        # YOUR CODE #############\n",
    "        # 1. zero-pad the input\n",
    "        # 2. compute 'self.gradW' using scipy.signal.correlate(... , mode='valid')\n",
    "        # 3. compute 'self.gradb' - formulas like in Linear of ChannelwiseScaling layers\n",
    "        \n",
    "        # self.gradW = ...\n",
    "        # self.gradb = ...\n",
    "        \n",
    "        batch_size = input.shape[0]\n",
    "        input_pad = skimage.util.pad(input, ((0,0), (0,0), (pad_size, pad_size), (pad_size, pad_size)), 'constant')\n",
    "        \n",
    "        for out_channel in range(self.out_channels):\n",
    "            for in_channel in range(self.in_channels):\n",
    "                self.gradW[out_channel, in_channel] = scipy.signal.correlate(input_pad[:, in_channel],\n",
    "                                                                             gradOutput[:, out_channel], mode='valid')\n",
    "            self.gradb[out_channel] = np.sum(gradOutput[:, out_channel])\n",
    "    \n",
    "    def zeroGradParameters(self):\n",
    "        self.gradW.fill(0)\n",
    "        self.gradb.fill(0)\n",
    "        \n",
    "    def getParameters(self):\n",
    "        return [self.W, self.b]\n",
    "    \n",
    "    def getGradParameters(self):\n",
    "        return [self.gradW, self.gradb]\n",
    "    \n",
    "    def __repr__(self):\n",
    "        s = self.W.shape\n",
    "        q = 'Conv2d %d -> %d' %(s[1],s[0])\n",
    "        return q"
   ]
  },
  {
   "cell_type": "markdown",
   "metadata": {
    "colab_type": "text",
    "id": "U5aNBR3soWr5"
   },
   "source": [
    "## 13. MaxPool2d *[2 pts]*\n",
    "- input:   **`batch_size x n_input_channels x h x w`**\n",
    "- output: **`batch_size x n_output_channels x h // kern_size x w // kern_size`**\n",
    "\n",
    "You are to implement simplified version of pytorch `MaxPool2d` layer with stride = kernel_size. Please note, that it's not a common case that stride = kernel_size: in AlexNet and ResNet kernel_size for max-pooling was set to 3, while stride was set to 2. We introduce this restriction to make implementation simplier.\n",
    "\n",
    "Practical notes:\n",
    "- During forward pass what you need to do is just to reshape the input tensor to `[n, c, h / kern_size, kern_size, w / kern_size, kern_size]`, swap two axes and take maximums over the last two dimensions. Reshape + axes swap is sometimes called space-to-batch transform.\n",
    "- During backward pass you need to place the gradients in positions of maximal values taken during the forward pass\n",
    "- In real frameworks the indices of maximums are stored in memory during the forward pass. It is cheaper than to keep the layer input in memory and recompute the maximums. \n",
    "\n",
    "**Hint:** `np.put_along_axis` might be useful during backward pass."
   ]
  },
  {
   "cell_type": "code",
   "execution_count": 200,
   "metadata": {
    "colab": {},
    "colab_type": "code",
    "id": "NYQuILxSoWr5"
   },
   "outputs": [],
   "source": [
    "class MaxPool2d(Module):\n",
    "    def __init__(self, kernel_size):\n",
    "        super(MaxPool2d, self).__init__()\n",
    "        self.kernel_size = kernel_size\n",
    "        self.gradInput = None\n",
    "                    \n",
    "    def updateOutput(self, input):\n",
    "        input_h, input_w = input.shape[-2:]\n",
    "        # your may remove these asserts and implement MaxPool2d with padding\n",
    "        assert input_h % self.kernel_size == 0  \n",
    "        assert input_w % self.kernel_size == 0\n",
    "        \n",
    "        # YOUR CODE #############################\n",
    "        # self.output = ...\n",
    "        # self.max_indices = ...\n",
    "        \n",
    "        self.output = np.reshape(input, (input.shape[0], input.shape[1], input_h // self.kernel_size, self.kernel_size, \n",
    "                                                             input_w // self.kernel_size, self.kernel_size))\n",
    "        self.output = np.swapaxes(self.output,3,4)\n",
    "        self.output = np.max(self.output, axis=(4,5))\n",
    "        \n",
    "        return self.output\n",
    "    \n",
    "    def updateGradInput(self, input, gradOutput):\n",
    "        # YOUR CODE #############################\n",
    "        # self.gradInput = ...\n",
    "        input_h, input_w = input.shape[-2:]\n",
    "        \n",
    "        mask = np.reshape(input, (input.shape[0], input.shape[1], input_h // self.kernel_size, self.kernel_size, \n",
    "                                                             input_w // self.kernel_size, self.kernel_size))\n",
    "        mask = np.swapaxes(mask,3,4)\n",
    "        mask_max = np.max(mask, axis=(4,5), keepdims=True)\n",
    "        \n",
    "        self.gradInput = np.zeros_like(mask)\n",
    "        self.gradInput += gradOutput[:,:,:,:, None, None] * (mask == mask_max)\n",
    "        self.gradInput = np.swapaxes(self.gradInput,4,3)\n",
    "        self.gradInput = np.reshape(self.gradInput, (input.shape[0], input.shape[1], input_h, input_w))\n",
    "\n",
    "        return self.gradInput\n",
    "    \n",
    "    def __repr__(self):\n",
    "        q = 'MaxPool2d, kern %d, stride %d' %(self.kernel_size, self.kernel_size)\n",
    "        return q"
   ]
  },
  {
   "cell_type": "markdown",
   "metadata": {
    "colab_type": "text",
    "id": "4NtPoAvcoWr6"
   },
   "source": [
    "### Flatten layer\n",
    "Just reshapes inputs and gradients. It's usually used as proxy layer between Conv2d and Linear.\n",
    "\n",
    "The layer is already implemented below, you don't need to change it."
   ]
  },
  {
   "cell_type": "code",
   "execution_count": 201,
   "metadata": {
    "colab": {},
    "colab_type": "code",
    "id": "wo_7ZIxMoWr6"
   },
   "outputs": [],
   "source": [
    "class Flatten(Module):\n",
    "    def __init__(self):\n",
    "        super(Flatten, self).__init__()\n",
    "    \n",
    "    def updateOutput(self, input):\n",
    "        self.output = input.reshape(len(input), -1)\n",
    "        return self.output\n",
    "    \n",
    "    def updateGradInput(self, input, gradOutput):\n",
    "        self.gradInput = gradOutput.reshape(input.shape)\n",
    "        return self.gradInput\n",
    "    \n",
    "    def __repr__(self):\n",
    "        return \"Flatten\""
   ]
  },
  {
   "cell_type": "markdown",
   "metadata": {
    "colab_type": "text",
    "id": "LY74vOFWoWr8"
   },
   "source": [
    "# Testing your layers\n",
    "\n",
    "Please run the following cells to check if the implementations are correct (all tests are passed):"
   ]
  },
  {
   "cell_type": "code",
   "execution_count": 202,
   "metadata": {
    "colab": {},
    "colab_type": "code",
    "id": "8Npd1LNdoWr8"
   },
   "outputs": [],
   "source": [
    "from test_modules import make_advanced_tester\n",
    "import unittest"
   ]
  },
  {
   "cell_type": "code",
   "execution_count": 203,
   "metadata": {
    "colab": {},
    "colab_type": "code",
    "id": "aNOL0BiloWr9"
   },
   "outputs": [],
   "source": [
    "TestLayersAdv = make_advanced_tester({\n",
    "    'Conv2d': Conv2d,\n",
    "    'Flatten': Flatten,\n",
    "    'MaxPool2d': MaxPool2d,\n",
    "})"
   ]
  },
  {
   "cell_type": "code",
   "execution_count": 204,
   "metadata": {
    "colab": {},
    "colab_type": "code",
    "id": "Xl9tYNfboWr-"
   },
   "outputs": [],
   "source": [
    "suite = unittest.TestLoader().loadTestsFromTestCase(TestLayersAdv)"
   ]
  },
  {
   "cell_type": "code",
   "execution_count": 205,
   "metadata": {
    "colab": {},
    "colab_type": "code",
    "id": "XShwZ5_EoWsA"
   },
   "outputs": [
    {
     "name": "stderr",
     "output_type": "stream",
     "text": [
      "test_Conv2d (test_modules.make_advanced_tester.<locals>._tester) ... ok\n",
      "test_MaxPool2d (test_modules.make_advanced_tester.<locals>._tester) ... ok\n",
      "\n",
      "----------------------------------------------------------------------\n",
      "Ran 2 tests in 0.363s\n",
      "\n",
      "OK\n"
     ]
    },
    {
     "data": {
      "text/plain": [
       "<unittest.runner.TextTestResult run=2 errors=0 failures=0>"
      ]
     },
     "execution_count": 205,
     "metadata": {},
     "output_type": "execute_result"
    }
   ],
   "source": [
    "unittest.TextTestRunner(verbosity=2).run(suite)"
   ]
  },
  {
   "cell_type": "markdown",
   "metadata": {
    "colab_type": "text",
    "id": "RJcYVq-8oWsB"
   },
   "source": [
    "# Training a convolutional network  *[3 pts]*\n",
    "\n",
    "Here you task is to train a CNN that has at least one `Conv2d` layer and `MaxPool2d` layer which achieves at least 97% accuracy on MNIST **test** set.\n",
    "\n",
    "**Hint:** Layers implemented in this homework run on CPU, and if the network is too deep, training might last forever, so we suggest to start with smaller networks. This subtask can be solved with a ConvNet having only 3 `Conv2d` layers (or even less) with a small number of channels."
   ]
  },
  {
   "cell_type": "code",
   "execution_count": 78,
   "metadata": {
    "colab": {},
    "colab_type": "code",
    "id": "cPPYR5lOoWsC"
   },
   "outputs": [],
   "source": [
    "%matplotlib inline\n",
    "from time import time, sleep\n",
    "import numpy as np\n",
    "import matplotlib.pyplot as plt\n",
    "from IPython import display"
   ]
  },
  {
   "cell_type": "code",
   "execution_count": 79,
   "metadata": {
    "colab": {},
    "colab_type": "code",
    "id": "KMS5jFmwoWsD"
   },
   "outputs": [],
   "source": [
    "import mnist\n",
    "X_train, y_train, X_val, y_val, X_test, y_test = mnist.load_dataset()  # your dataset"
   ]
  },
  {
   "cell_type": "code",
   "execution_count": 80,
   "metadata": {
    "colab": {},
    "colab_type": "code",
    "id": "rne3PFeqoWsE"
   },
   "outputs": [],
   "source": [
    "from sklearn.preprocessing import OneHotEncoder\n",
    "\n",
    "ohot_encoder = OneHotEncoder(categories=[range(10)])\n",
    "\n",
    "y_train_hot = np.asarray(ohot_encoder.fit_transform(y_train.reshape(-1, 1)).todense())\n",
    "y_val_hot = np.asarray(ohot_encoder.transform(y_val.reshape(-1, 1)).todense())\n",
    "y_test_hot = np.asarray(ohot_encoder.transform(y_test.reshape(-1, 1)).todense())"
   ]
  },
  {
   "cell_type": "code",
   "execution_count": 92,
   "metadata": {},
   "outputs": [],
   "source": [
    "# Optimizer params\n",
    "optimizer_config= {'learning_rate': 1e-3, 'beta1': 0.9, 'beta2': 0.9, 'epsilon': 1e-9}\n",
    "\n",
    "optimizer_state = {}\n",
    "\n",
    "# Train params\n",
    "n_epoch = 10\n",
    "batch_size = 1000\n",
    "\n",
    "# Net\n",
    "cnn = Sequential()\n",
    "cnn.add(Conv2d(1, 5, kernel_size=3))\n",
    "cnn.add(ReLU())  # лучше сначала макспул, потом релу!!!!!\n",
    "cnn.add(MaxPool2d(2))\n",
    "cnn.add(Conv2d(5, 10, kernel_size=3))\n",
    "cnn.add(ReLU())\n",
    "cnn.add(MaxPool2d(2))\n",
    "cnn.add(Flatten())\n",
    "cnn.add(Linear(7 * 7 * 10, 10))\n",
    "cnn.add(LogSoftMax())\n",
    "\n",
    "\n",
    "\n",
    "# Loss function\n",
    "criterion = ClassNLLCriterion()\n",
    "\n",
    "# containers for comparison\n",
    "train_loss_cnn = []\n",
    "\n",
    "\n",
    "val_loss_cnn = []"
   ]
  },
  {
   "cell_type": "code",
   "execution_count": 93,
   "metadata": {},
   "outputs": [
    {
     "data": {
      "image/png": "[encoded data removed]",
      "text/plain": [
       "<Figure size 1152x648 with 1 Axes>"
      ]
     },
     "metadata": {
      "needs_background": "light"
     },
     "output_type": "display_data"
    },
    {
     "name": "stderr",
     "output_type": "stream",
     "text": [
      "\n",
      "\n",
      "\n",
      "\n",
      "\n",
      "100%|██████████| 10/10 [1:53:21<00:00, 680.14s/it]\u001b[A\u001b[A\u001b[A\u001b[A\u001b[A\n"
     ]
    }
   ],
   "source": [
    "for i in tqdm(range(n_epoch)):\n",
    "    for x_batch, y_batch in get_batches((X_train[:, None, :, :], y_train_hot), batch_size):\n",
    "    \n",
    "        cnn.zeroGradParameters()\n",
    "        \n",
    "        predictions = cnn.forward(x_batch)\n",
    "        loss = criterion.forward(predictions, y_batch)\n",
    "        \n",
    "        dp = criterion.backward(predictions, y_batch)\n",
    "        cnn.backward(x_batch, dp)\n",
    "        \n",
    "        adam_optimizer(cnn.getParameters(), \n",
    "                     cnn.getGradParameters(), \n",
    "                     optimizer_config,\n",
    "                     optimizer_state) \n",
    "\n",
    " \n",
    "    y_pred_train = cnn.forward(X_train[:, None, :, :])\n",
    "    loss = criterion.forward(y_train_hot, y_pred_train)\n",
    "    train_loss_cnn.append(loss)\n",
    "    \n",
    "    y_pred_val = cnn.forward(X_val[:, None, :, :])\n",
    "    loss = criterion.forward(y_val_hot, y_pred_val)\n",
    "    val_loss_cnn.append(loss)"
   ]
  },
  {
   "cell_type": "code",
   "execution_count": 108,
   "metadata": {},
   "outputs": [
    {
     "name": "stderr",
     "output_type": "stream",
     "text": [
      "\n",
      "\n",
      "\n",
      "\n",
      "\n",
      "  0%|          | 0/2 [00:00<?, ?it/s]\u001b[A\u001b[A\u001b[A\u001b[A\u001b[A\n",
      "\n",
      "\n",
      "\n",
      "\n",
      " 50%|█████     | 1/2 [27:34<27:34, 1654.45s/it]\u001b[A\u001b[A\u001b[A\u001b[A\u001b[A\n",
      "\n",
      "\n",
      "\n",
      "\n",
      "100%|██████████| 2/2 [39:07<00:00, 1173.62s/it]\u001b[A\u001b[A\u001b[A\u001b[A\u001b[A\n"
     ]
    }
   ],
   "source": [
    "# A couple more epoches to reach 97%\n",
    "\n",
    "for i in tqdm(range(2)):\n",
    "    for x_batch, y_batch in get_batches((X_train[:, None, :, :], y_train_hot), batch_size):\n",
    "    \n",
    "        cnn.zeroGradParameters()\n",
    "        \n",
    "        predictions = cnn.forward(x_batch)\n",
    "        loss = criterion.forward(predictions, y_batch)\n",
    "        \n",
    "        dp = criterion.backward(predictions, y_batch)\n",
    "        cnn.backward(x_batch, dp)\n",
    "        \n",
    "        adam_optimizer(cnn.getParameters(), \n",
    "                     cnn.getGradParameters(), \n",
    "                     optimizer_config,\n",
    "                     optimizer_state) \n",
    " \n",
    "    y_pred_train = cnn.forward(X_train[:, None, :, :])\n",
    "    loss = criterion.forward(y_train_hot, y_pred_train)\n",
    "    train_loss_cnn.append(loss)\n",
    "    \n",
    "    y_pred_val = cnn.forward(X_val[:, None, :, :])\n",
    "    loss = criterion.forward(y_val_hot, y_pred_val)\n",
    "    val_loss_cnn.append(loss)"
   ]
  },
  {
   "cell_type": "code",
   "execution_count": 112,
   "metadata": {},
   "outputs": [
    {
     "data": {
      "image/png": "[encoded data removed]",
      "text/plain": [
       "<Figure size 1152x648 with 1 Axes>"
      ]
     },
     "metadata": {
      "needs_background": "light"
     },
     "output_type": "display_data"
    }
   ],
   "source": [
    "display.clear_output(wait=True)\n",
    "plt.figure(figsize=(16, 9))\n",
    "plt.yscale('log')\n",
    "    \n",
    "plt.title(\"Validation loss\")\n",
    "plt.xlabel(\"#epoches\")\n",
    "plt.ylabel(\"loss\")\n",
    "plt.plot(val_loss_cnn, '', label = 'CNN')\n",
    "plt.legend()\n",
    "plt.show()"
   ]
  },
  {
   "cell_type": "code",
   "execution_count": 110,
   "metadata": {},
   "outputs": [],
   "source": [
    "y_pred_cnn = [np.argmax(i) for i in cnn.forward(X_test[:, None, :, :])]"
   ]
  },
  {
   "cell_type": "code",
   "execution_count": 111,
   "metadata": {},
   "outputs": [
    {
     "name": "stdout",
     "output_type": "stream",
     "text": [
      "Test Accuracy of CNN: 0.9716\n"
     ]
    }
   ],
   "source": [
    "print('Test Accuracy of CNN:',accuracy_score(y_test, y_pred_cnn))"
   ]
  },
  {
   "cell_type": "markdown",
   "metadata": {
    "colab_type": "text",
    "id": "dBk0vSFroWsF"
   },
   "source": [
    "### Reward\n",
    "\n",
    "Once done with the homework, check out [this link](https://www.cs.ryerson.ca/~aharley/vis/conv/) with some beautiful 3D visualization of what convnets really learn on MNIST :)\n",
    "\n",
    "You can also see [here](https://www.cs.ryerson.ca/~aharley/vis/fc/) that fully-connected networks are not so interpretable. "
   ]
  }
 ],
 "metadata": {
  "colab": {
   "name": "hw1_Tsaturyan_Arman.ipynb",
   "provenance": [],
   "toc_visible": true
  },
  "kernelspec": {
   "display_name": "Python 3",
   "language": "python",
   "name": "python3"
  },
  "language_info": {
   "codemirror_mode": {
    "name": "ipython",
    "version": 3
   },
   "file_extension": ".py",
   "mimetype": "text/x-python",
   "name": "python",
   "nbconvert_exporter": "python",
   "pygments_lexer": "ipython3",
   "version": "3.7.6"
  }
 },
 "nbformat": 4,
 "nbformat_minor": 1
}
